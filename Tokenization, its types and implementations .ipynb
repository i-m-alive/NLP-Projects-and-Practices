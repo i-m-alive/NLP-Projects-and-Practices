{
 "cells": [
  {
   "cell_type": "markdown",
   "id": "e59d3cea-d032-431f-b0e1-c105b308abc1",
   "metadata": {},
   "source": [
    "# Tokenization"
   ]
  },
  {
   "cell_type": "markdown",
   "id": "75b7d93f-ee08-42ad-8383-4779ad65e787",
   "metadata": {},
   "source": [
    "The process of converting a sequence of text into smaller parts, known as tokens. These tokens can be as small as characters or as long as words. "
   ]
  },
  {
   "cell_type": "markdown",
   "id": "f11ccd11-8757-4d6d-a051-a07dc03429b6",
   "metadata": {},
   "source": [
    "## Types of Tokenization\n",
    "1. Word tokenization\n",
    "2. Character tokenization\n",
    "3. Subword tokenization\n",
    "   "
   ]
  },
  {
   "cell_type": "code",
   "execution_count": 1,
   "id": "1f6829f3-4882-42cc-b3ec-b631d334df73",
   "metadata": {},
   "outputs": [],
   "source": [
    "import docx"
   ]
  },
  {
   "cell_type": "code",
   "execution_count": 10,
   "id": "1480d362-6a09-492d-b9bc-0beaf7fbc258",
   "metadata": {},
   "outputs": [],
   "source": [
    "doc=docx.Document(r\"C:\\Users\\bhaka\\Documents\\NLP AS-1.docx\")"
   ]
  },
  {
   "cell_type": "code",
   "execution_count": 11,
   "id": "525fa183-758a-49c8-936d-85f744e2053f",
   "metadata": {},
   "outputs": [
    {
     "name": "stdout",
     "output_type": "stream",
     "text": [
      "<docx.document.Document object at 0x0000023678CF9D10>\n"
     ]
    }
   ],
   "source": [
    "print(doc)"
   ]
  },
  {
   "cell_type": "code",
   "execution_count": 12,
   "id": "2c59d9dd-6709-442e-a0f7-d30d63935e76",
   "metadata": {},
   "outputs": [
    {
     "name": "stdout",
     "output_type": "stream",
     "text": [
      "['HMM, or Hidden Markov Model, is a statistical framework designed to analyze sequences of observable events, which are believed to be influenced by underlying, unobservable states.', 'It is widely used in various natural language processing tasks such as Parts of Speech Tagging, named entity recognition, speech recognition, and machine translation.', 'The term \"hidden\" in HMM signifies that the states responsible for generating the observed events cannot be directly observed but can be inferred from the available data.', 'The Markov property within HMM indicates that the probability of transitioning from one state to another depends solely on the current state, without consideration of the preceding sequence of states.', '', 'Viterbi Decoding for HMM: ', 'Viterbi Decoding is an algorithm used to determine the most likely sequence of hidden labels in an HMM when observing a sequence of events.', 'It begins by initializing probabilities for each state based on initial state probabilities and emission probabilities.', 'Recursively, probabilities are calculated for the most probable path to each state at each time step, considering transitions from previous states, transition probabilities, and emission probabilities.', 'The process concludes by identifying the maximum probability among the probabilities of reaching each state at the last time step.', 'Backtracking involves tracing through the Viterbi matrix to determine the sequence of hidden states that led to the maximum probability sequence of observations, moving backward from the last time step to the first.', 'The resulting sequence of hidden states obtained through backtracking represents the most probable sequence of hidden states given the observed sequence of symbols.', 'Viterbi decoding efficiently determines these sequences using dynamic programming principles, making it crucial in NLP tasks such as part-of-speech tagging, named entity recognition, and speech recognition.', 'Baum Welch Algorithm:', 'The Baum Welch Algorithm is essential in NLP, especially for training Models (HMMs) when labeled data is not available.', 'It plays a significant role in tasks like part-of-speech tagging and named entity recognition, where understanding underlying patterns in text data is crucial.', 'Operating within the Expectation-Maximization framework, it iteratively refines model parameters by computing expected counts of observing sequences of words given the current parameters and updating transition and emission probabilities accordingly.', 'This iterative process enables the model to learn probabilistic patterns directly from unlabeled text data, thereby enhancing its performance.', 'The algorithm continues iterating until convergence, ensuring stability in the model parameters.', 'Its applications in NLP include improving the accuracy of various tasks, highlighting its importance in the field.', 'Maximum Entropy Model:', 'The Maximum Entropy Model predicts the probability distribution of an output variable based on input features while maximizing entropy, aiming for the most uniform distribution given observed constraints.', 'Features, capturing relevant information from the input data such as word context or syntactic structure, are strategically selected.', 'During training, the model adjusts parameters to maximize the likelihood of observed data while satisfying constraints, often using optimization techniques like gradient ascent.', 'During inference, the model calculates probabilities for each output label given input features and selects the label with the highest probability.', 'With its flexibility and ability to handle complex feature representations, the Maximum Entropy Model is applied across various NLP tasks including part-of-speech tagging, named entity recognition, sentiment analysis, and text classification.', 'Its versatility and robustness make it a fundamental component in modern NLP systems, facilitating accurate predictions and insights from textual data.', '', '']\n"
     ]
    }
   ],
   "source": [
    "text=[]\n",
    "for para in doc.paragraphs:\n",
    "    text.append(para.text)\n",
    "print(text)"
   ]
  },
  {
   "cell_type": "markdown",
   "id": "a12df269-9683-4be9-aeab-d69a934133c1",
   "metadata": {},
   "source": [
    "### Word Tokenization"
   ]
  },
  {
   "cell_type": "code",
   "execution_count": 14,
   "id": "36953076-de1b-4ede-acf1-bf9d74a60f10",
   "metadata": {},
   "outputs": [],
   "source": [
    "from nltk.tokenize import word_tokenize"
   ]
  },
  {
   "cell_type": "code",
   "execution_count": 18,
   "id": "84b64aec-6c2a-416a-b16a-9ce0bb1f4d9c",
   "metadata": {},
   "outputs": [
    {
     "name": "stdout",
     "output_type": "stream",
     "text": [
      "['HMM', ',', 'or', 'Hidden', 'Markov', 'Model', ',', 'is', 'a', 'statistical', 'framework', 'designed', 'to', 'analyze', 'sequences', 'of', 'observable', 'events', ',', 'which', 'are', 'believed', 'to', 'be', 'influenced', 'by', 'underlying', ',', 'unobservable', 'states', '.', 'It', 'is', 'widely', 'used', 'in', 'various', 'natural', 'language', 'processing', 'tasks', 'such', 'as', 'Parts', 'of', 'Speech', 'Tagging', ',', 'named', 'entity', 'recognition', ',', 'speech', 'recognition', ',', 'and', 'machine', 'translation', '.', 'The', 'term', '``', 'hidden', \"''\", 'in', 'HMM', 'signifies', 'that', 'the', 'states', 'responsible', 'for', 'generating', 'the', 'observed', 'events', 'can', 'not', 'be', 'directly', 'observed', 'but', 'can', 'be', 'inferred', 'from', 'the', 'available', 'data', '.', 'The', 'Markov', 'property', 'within', 'HMM', 'indicates', 'that', 'the', 'probability', 'of', 'transitioning', 'from', 'one', 'state', 'to', 'another', 'depends', 'solely', 'on', 'the', 'current', 'state', ',', 'without', 'consideration', 'of', 'the', 'preceding', 'sequence', 'of', 'states', '.', 'Viterbi', 'Decoding', 'for', 'HMM', ':', 'Viterbi', 'Decoding', 'is', 'an', 'algorithm', 'used', 'to', 'determine', 'the', 'most', 'likely', 'sequence', 'of', 'hidden', 'labels', 'in', 'an', 'HMM', 'when', 'observing', 'a', 'sequence', 'of', 'events', '.', 'It', 'begins', 'by', 'initializing', 'probabilities', 'for', 'each', 'state', 'based', 'on', 'initial', 'state', 'probabilities', 'and', 'emission', 'probabilities', '.', 'Recursively', ',', 'probabilities', 'are', 'calculated', 'for', 'the', 'most', 'probable', 'path', 'to', 'each', 'state', 'at', 'each', 'time', 'step', ',', 'considering', 'transitions', 'from', 'previous', 'states', ',', 'transition', 'probabilities', ',', 'and', 'emission', 'probabilities', '.', 'The', 'process', 'concludes', 'by', 'identifying', 'the', 'maximum', 'probability', 'among', 'the', 'probabilities', 'of', 'reaching', 'each', 'state', 'at', 'the', 'last', 'time', 'step', '.', 'Backtracking', 'involves', 'tracing', 'through', 'the', 'Viterbi', 'matrix', 'to', 'determine', 'the', 'sequence', 'of', 'hidden', 'states', 'that', 'led', 'to', 'the', 'maximum', 'probability', 'sequence', 'of', 'observations', ',', 'moving', 'backward', 'from', 'the', 'last', 'time', 'step', 'to', 'the', 'first', '.', 'The', 'resulting', 'sequence', 'of', 'hidden', 'states', 'obtained', 'through', 'backtracking', 'represents', 'the', 'most', 'probable', 'sequence', 'of', 'hidden', 'states', 'given', 'the', 'observed', 'sequence', 'of', 'symbols', '.', 'Viterbi', 'decoding', 'efficiently', 'determines', 'these', 'sequences', 'using', 'dynamic', 'programming', 'principles', ',', 'making', 'it', 'crucial', 'in', 'NLP', 'tasks', 'such', 'as', 'part-of-speech', 'tagging', ',', 'named', 'entity', 'recognition', ',', 'and', 'speech', 'recognition', '.', 'Baum', 'Welch', 'Algorithm', ':', 'The', 'Baum', 'Welch', 'Algorithm', 'is', 'essential', 'in', 'NLP', ',', 'especially', 'for', 'training', 'Models', '(', 'HMMs', ')', 'when', 'labeled', 'data', 'is', 'not', 'available', '.', 'It', 'plays', 'a', 'significant', 'role', 'in', 'tasks', 'like', 'part-of-speech', 'tagging', 'and', 'named', 'entity', 'recognition', ',', 'where', 'understanding', 'underlying', 'patterns', 'in', 'text', 'data', 'is', 'crucial', '.', 'Operating', 'within', 'the', 'Expectation-Maximization', 'framework', ',', 'it', 'iteratively', 'refines', 'model', 'parameters', 'by', 'computing', 'expected', 'counts', 'of', 'observing', 'sequences', 'of', 'words', 'given', 'the', 'current', 'parameters', 'and', 'updating', 'transition', 'and', 'emission', 'probabilities', 'accordingly', '.', 'This', 'iterative', 'process', 'enables', 'the', 'model', 'to', 'learn', 'probabilistic', 'patterns', 'directly', 'from', 'unlabeled', 'text', 'data', ',', 'thereby', 'enhancing', 'its', 'performance', '.', 'The', 'algorithm', 'continues', 'iterating', 'until', 'convergence', ',', 'ensuring', 'stability', 'in', 'the', 'model', 'parameters', '.', 'Its', 'applications', 'in', 'NLP', 'include', 'improving', 'the', 'accuracy', 'of', 'various', 'tasks', ',', 'highlighting', 'its', 'importance', 'in', 'the', 'field', '.', 'Maximum', 'Entropy', 'Model', ':', 'The', 'Maximum', 'Entropy', 'Model', 'predicts', 'the', 'probability', 'distribution', 'of', 'an', 'output', 'variable', 'based', 'on', 'input', 'features', 'while', 'maximizing', 'entropy', ',', 'aiming', 'for', 'the', 'most', 'uniform', 'distribution', 'given', 'observed', 'constraints', '.', 'Features', ',', 'capturing', 'relevant', 'information', 'from', 'the', 'input', 'data', 'such', 'as', 'word', 'context', 'or', 'syntactic', 'structure', ',', 'are', 'strategically', 'selected', '.', 'During', 'training', ',', 'the', 'model', 'adjusts', 'parameters', 'to', 'maximize', 'the', 'likelihood', 'of', 'observed', 'data', 'while', 'satisfying', 'constraints', ',', 'often', 'using', 'optimization', 'techniques', 'like', 'gradient', 'ascent', '.', 'During', 'inference', ',', 'the', 'model', 'calculates', 'probabilities', 'for', 'each', 'output', 'label', 'given', 'input', 'features', 'and', 'selects', 'the', 'label', 'with', 'the', 'highest', 'probability', '.', 'With', 'its', 'flexibility', 'and', 'ability', 'to', 'handle', 'complex', 'feature', 'representations', ',', 'the', 'Maximum', 'Entropy', 'Model', 'is', 'applied', 'across', 'various', 'NLP', 'tasks', 'including', 'part-of-speech', 'tagging', ',', 'named', 'entity', 'recognition', ',', 'sentiment', 'analysis', ',', 'and', 'text', 'classification', '.', 'Its', 'versatility', 'and', 'robustness', 'make', 'it', 'a', 'fundamental', 'component', 'in', 'modern', 'NLP', 'systems', ',', 'facilitating', 'accurate', 'predictions', 'and', 'insights', 'from', 'textual', 'data', '.']\n"
     ]
    }
   ],
   "source": [
    "w_tokens=[]\n",
    "for word in text:\n",
    "    w_tokens.extend(word_tokenize(word))\n",
    "print(w_tokens)"
   ]
  },
  {
   "cell_type": "markdown",
   "id": "92181bfa-7890-4487-bed6-6114940e831d",
   "metadata": {},
   "source": [
    "### Character tokenization"
   ]
  },
  {
   "cell_type": "code",
   "execution_count": 22,
   "id": "a86ecb17-0acf-495f-8d4f-333d84eff0e3",
   "metadata": {},
   "outputs": [],
   "source": [
    "texts=\"HMM, or Hidden Markov Model, is a statistical framework designed to analyze sequences of observable events, which are believed to be influenced by underlying, unobservable states.\""
   ]
  },
  {
   "cell_type": "code",
   "execution_count": 23,
   "id": "0ff756c7-5e6c-465e-bbaa-21a9fc121f57",
   "metadata": {},
   "outputs": [
    {
     "name": "stdout",
     "output_type": "stream",
     "text": [
      "HMM, or Hidden Markov Model, is a statistical framework designed to analyze sequences of observable events, which are believed to be influenced by underlying, unobservable states.\n"
     ]
    }
   ],
   "source": [
    "print(texts)"
   ]
  },
  {
   "cell_type": "code",
   "execution_count": 24,
   "id": "2e00dc35-cec5-4219-abf3-e6b6a0b64286",
   "metadata": {},
   "outputs": [
    {
     "name": "stdout",
     "output_type": "stream",
     "text": [
      "['H', 'M', 'M', ',', ' ', 'o', 'r', ' ', 'H', 'i', 'd', 'd', 'e', 'n', ' ', 'M', 'a', 'r', 'k', 'o', 'v', ' ', 'M', 'o', 'd', 'e', 'l', ',', ' ', 'i', 's', ' ', 'a', ' ', 's', 't', 'a', 't', 'i', 's', 't', 'i', 'c', 'a', 'l', ' ', 'f', 'r', 'a', 'm', 'e', 'w', 'o', 'r', 'k', ' ', 'd', 'e', 's', 'i', 'g', 'n', 'e', 'd', ' ', 't', 'o', ' ', 'a', 'n', 'a', 'l', 'y', 'z', 'e', ' ', 's', 'e', 'q', 'u', 'e', 'n', 'c', 'e', 's', ' ', 'o', 'f', ' ', 'o', 'b', 's', 'e', 'r', 'v', 'a', 'b', 'l', 'e', ' ', 'e', 'v', 'e', 'n', 't', 's', ',', ' ', 'w', 'h', 'i', 'c', 'h', ' ', 'a', 'r', 'e', ' ', 'b', 'e', 'l', 'i', 'e', 'v', 'e', 'd', ' ', 't', 'o', ' ', 'b', 'e', ' ', 'i', 'n', 'f', 'l', 'u', 'e', 'n', 'c', 'e', 'd', ' ', 'b', 'y', ' ', 'u', 'n', 'd', 'e', 'r', 'l', 'y', 'i', 'n', 'g', ',', ' ', 'u', 'n', 'o', 'b', 's', 'e', 'r', 'v', 'a', 'b', 'l', 'e', ' ', 's', 't', 'a', 't', 'e', 's', '.']\n"
     ]
    }
   ],
   "source": [
    "def char_tk(text):\n",
    "    for char in text:\n",
    "        return char\n",
    "\n",
    "char_tokens=[]\n",
    "for text in texts:\n",
    "    char_tokens.append(char_tk(text))\n",
    "print(char_tokens)    "
   ]
  },
  {
   "cell_type": "markdown",
   "id": "366d8e7f-7fa4-4cc0-852f-7bab1ce4216a",
   "metadata": {},
   "source": [
    "### Sentence tokenizer"
   ]
  },
  {
   "cell_type": "code",
   "execution_count": 26,
   "id": "c8688c4f-4e91-49fe-a805-8a08c4f5691c",
   "metadata": {},
   "outputs": [],
   "source": [
    "from nltk.tokenize import sent_tokenize"
   ]
  },
  {
   "cell_type": "code",
   "execution_count": 27,
   "id": "9b8dd989-1152-41bf-ba07-912c86bd03e4",
   "metadata": {},
   "outputs": [],
   "source": [
    "text2=\"Lord Shiva, one of the principal deities in Hinduism, is a figure of profound significance and reverence. Often depicted as the cosmic dancer, the destroyer of evil, and the epitome of asceticism, Lord Shiva embodies various aspects of existence, from creation to destruction, and from tranquility to ferocity. In this essay, we delve into the multifaceted persona of Lord Shiva, exploring his mythology, symbolism, and spiritual significance. Lord Shiva, also known as Mahadeva or the Great God, holds a central position in Hindu mythology alongside Brahma, the creator, and Vishnu, the preserver. He is often depicted in various forms, ranging from the serene and meditative to the fierce and destructive. According to Hindu mythology, Shiva is believed to reside in Mount Kailash, the mythical abode of the gods, where he meditates in deep contemplation. One of the most iconic representations of Lord Shiva is as Nataraja, the Lord of the Dance. In this form, he performs the cosmic dance known as the Tandava, symbolizing the rhythmic movement of the universe. The Tandava is both a creative and destructive force, representing the eternal cycle of birth, death, and rebirth. Through his dance, Shiva signifies the interconnectedness of all life and the ultimate harmony of the cosmos. Another significant aspect of Lord Shiva is his role as the destroyer of ignorance and evil. As the deity responsible for the dissolution of the universe, Shiva is often depicted wielding a trident, which symbolizes his power to destroy negativity and ignorance. Despite his destructive capabilities, Shiva is also revered as a benevolent and compassionate deity who grants salvation and liberation to his devotees. Shiva's symbolism is rich with meaning, reflecting the complexities of human existence and the pursuit of spiritual enlightenment. His third eye, often depicted on his forehead, represents the eye of wisdom and insight, capable of seeing beyond the physical realm into the realm of truth and enlightenment. The crescent moon adorning his head symbolizes the passage of time and the cycles of creation and destruction. Moreover, Shiva is often associated with asceticism and renunciation, embodying the ideals of detachment and inner peace. He is often depicted wearing a tiger skin and adorned with snakes, signifying his mastery over the primal forces of nature and his ability to transcend earthly desires. Shiva's consort, Parvati, represents the divine feminine and complements his masculine energy, symbolizing the union of opposites and the balance of cosmic forces. In Hindu theology, worshiping Lord Shiva is believed to bestow blessings of spiritual growth, inner peace, and protection from negative influences. Devotees often perform rituals such as the Maha Shivaratri, a festival dedicated to honoring Shiva through fasting, meditation, and prayer. Through these practices, devotees seek to cultivate a deeper connection with the divine and attain spiritual enlightenment. In conclusion, Lord Shiva occupies a central place in Hindu mythology and spirituality, embodying the essence of creation, destruction, and transcendence. As the cosmic dancer, the destroyer of evil, and the epitome of asceticism, Shiva symbolizes the eternal cycle of life and death and the ultimate quest for spiritual liberation. Through devotion and reverence, devotees seek to emulate the divine qualities of Lord Shiva and attain inner peace, wisdom, and enlightenment.\""
   ]
  },
  {
   "cell_type": "code",
   "execution_count": 28,
   "id": "a949f0ed-55fc-4b7d-ae90-ec41599c8cb1",
   "metadata": {},
   "outputs": [
    {
     "name": "stdout",
     "output_type": "stream",
     "text": [
      "Lord Shiva, one of the principal deities in Hinduism, is a figure of profound significance and reverence. Often depicted as the cosmic dancer, the destroyer of evil, and the epitome of asceticism, Lord Shiva embodies various aspects of existence, from creation to destruction, and from tranquility to ferocity. In this essay, we delve into the multifaceted persona of Lord Shiva, exploring his mythology, symbolism, and spiritual significance. Lord Shiva, also known as Mahadeva or the Great God, holds a central position in Hindu mythology alongside Brahma, the creator, and Vishnu, the preserver. He is often depicted in various forms, ranging from the serene and meditative to the fierce and destructive. According to Hindu mythology, Shiva is believed to reside in Mount Kailash, the mythical abode of the gods, where he meditates in deep contemplation. One of the most iconic representations of Lord Shiva is as Nataraja, the Lord of the Dance. In this form, he performs the cosmic dance known as the Tandava, symbolizing the rhythmic movement of the universe. The Tandava is both a creative and destructive force, representing the eternal cycle of birth, death, and rebirth. Through his dance, Shiva signifies the interconnectedness of all life and the ultimate harmony of the cosmos. Another significant aspect of Lord Shiva is his role as the destroyer of ignorance and evil. As the deity responsible for the dissolution of the universe, Shiva is often depicted wielding a trident, which symbolizes his power to destroy negativity and ignorance. Despite his destructive capabilities, Shiva is also revered as a benevolent and compassionate deity who grants salvation and liberation to his devotees. Shiva's symbolism is rich with meaning, reflecting the complexities of human existence and the pursuit of spiritual enlightenment. His third eye, often depicted on his forehead, represents the eye of wisdom and insight, capable of seeing beyond the physical realm into the realm of truth and enlightenment. The crescent moon adorning his head symbolizes the passage of time and the cycles of creation and destruction. Moreover, Shiva is often associated with asceticism and renunciation, embodying the ideals of detachment and inner peace. He is often depicted wearing a tiger skin and adorned with snakes, signifying his mastery over the primal forces of nature and his ability to transcend earthly desires. Shiva's consort, Parvati, represents the divine feminine and complements his masculine energy, symbolizing the union of opposites and the balance of cosmic forces. In Hindu theology, worshiping Lord Shiva is believed to bestow blessings of spiritual growth, inner peace, and protection from negative influences. Devotees often perform rituals such as the Maha Shivaratri, a festival dedicated to honoring Shiva through fasting, meditation, and prayer. Through these practices, devotees seek to cultivate a deeper connection with the divine and attain spiritual enlightenment. In conclusion, Lord Shiva occupies a central place in Hindu mythology and spirituality, embodying the essence of creation, destruction, and transcendence. As the cosmic dancer, the destroyer of evil, and the epitome of asceticism, Shiva symbolizes the eternal cycle of life and death and the ultimate quest for spiritual liberation. Through devotion and reverence, devotees seek to emulate the divine qualities of Lord Shiva and attain inner peace, wisdom, and enlightenment.\n"
     ]
    }
   ],
   "source": [
    "print(text2)"
   ]
  },
  {
   "cell_type": "code",
   "execution_count": 31,
   "id": "65b1f4c4-02b0-4002-80da-cd0b8a73c37f",
   "metadata": {},
   "outputs": [
    {
     "name": "stdout",
     "output_type": "stream",
     "text": [
      "['Lord Shiva, one of the principal deities in Hinduism, is a figure of profound significance and reverence.', 'Often depicted as the cosmic dancer, the destroyer of evil, and the epitome of asceticism, Lord Shiva embodies various aspects of existence, from creation to destruction, and from tranquility to ferocity.', 'In this essay, we delve into the multifaceted persona of Lord Shiva, exploring his mythology, symbolism, and spiritual significance.', 'Lord Shiva, also known as Mahadeva or the Great God, holds a central position in Hindu mythology alongside Brahma, the creator, and Vishnu, the preserver.', 'He is often depicted in various forms, ranging from the serene and meditative to the fierce and destructive.', 'According to Hindu mythology, Shiva is believed to reside in Mount Kailash, the mythical abode of the gods, where he meditates in deep contemplation.', 'One of the most iconic representations of Lord Shiva is as Nataraja, the Lord of the Dance.', 'In this form, he performs the cosmic dance known as the Tandava, symbolizing the rhythmic movement of the universe.', 'The Tandava is both a creative and destructive force, representing the eternal cycle of birth, death, and rebirth.', 'Through his dance, Shiva signifies the interconnectedness of all life and the ultimate harmony of the cosmos.', 'Another significant aspect of Lord Shiva is his role as the destroyer of ignorance and evil.', 'As the deity responsible for the dissolution of the universe, Shiva is often depicted wielding a trident, which symbolizes his power to destroy negativity and ignorance.', 'Despite his destructive capabilities, Shiva is also revered as a benevolent and compassionate deity who grants salvation and liberation to his devotees.', \"Shiva's symbolism is rich with meaning, reflecting the complexities of human existence and the pursuit of spiritual enlightenment.\", 'His third eye, often depicted on his forehead, represents the eye of wisdom and insight, capable of seeing beyond the physical realm into the realm of truth and enlightenment.', 'The crescent moon adorning his head symbolizes the passage of time and the cycles of creation and destruction.', 'Moreover, Shiva is often associated with asceticism and renunciation, embodying the ideals of detachment and inner peace.', 'He is often depicted wearing a tiger skin and adorned with snakes, signifying his mastery over the primal forces of nature and his ability to transcend earthly desires.', \"Shiva's consort, Parvati, represents the divine feminine and complements his masculine energy, symbolizing the union of opposites and the balance of cosmic forces.\", 'In Hindu theology, worshiping Lord Shiva is believed to bestow blessings of spiritual growth, inner peace, and protection from negative influences.', 'Devotees often perform rituals such as the Maha Shivaratri, a festival dedicated to honoring Shiva through fasting, meditation, and prayer.', 'Through these practices, devotees seek to cultivate a deeper connection with the divine and attain spiritual enlightenment.', 'In conclusion, Lord Shiva occupies a central place in Hindu mythology and spirituality, embodying the essence of creation, destruction, and transcendence.', 'As the cosmic dancer, the destroyer of evil, and the epitome of asceticism, Shiva symbolizes the eternal cycle of life and death and the ultimate quest for spiritual liberation.', 'Through devotion and reverence, devotees seek to emulate the divine qualities of Lord Shiva and attain inner peace, wisdom, and enlightenment.']\n"
     ]
    }
   ],
   "source": [
    "sent_tk=sent_tokenize(text2)\n",
    "print(sent_tk)"
   ]
  },
  {
   "cell_type": "markdown",
   "id": "06c01ab6-8763-4682-b3b7-013ed1d4150b",
   "metadata": {},
   "source": []
  },
  {
   "cell_type": "code",
   "execution_count": null,
   "id": "a0011118-1290-4daf-ac02-f339dcfe1e81",
   "metadata": {},
   "outputs": [],
   "source": []
  },
  {
   "cell_type": "code",
   "execution_count": null,
   "id": "0982f048-cc3d-4012-ae02-e798bf856e71",
   "metadata": {},
   "outputs": [],
   "source": []
  }
 ],
 "metadata": {
  "kernelspec": {
   "display_name": "Python 3 (ipykernel)",
   "language": "python",
   "name": "python3"
  },
  "language_info": {
   "codemirror_mode": {
    "name": "ipython",
    "version": 3
   },
   "file_extension": ".py",
   "mimetype": "text/x-python",
   "name": "python",
   "nbconvert_exporter": "python",
   "pygments_lexer": "ipython3",
   "version": "3.11.7"
  }
 },
 "nbformat": 4,
 "nbformat_minor": 5
}
