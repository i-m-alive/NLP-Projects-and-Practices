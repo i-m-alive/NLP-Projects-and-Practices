{
 "cells": [
  {
   "cell_type": "markdown",
   "id": "439eb5d8-5ecc-4ca1-8e00-12ebfb1bc990",
   "metadata": {},
   "source": [
    "## Spell Checker application in python using Weighted Edit Distance method\n",
    "\n",
    "Procedure:"
   ]
  },
  {
   "cell_type": "markdown",
   "id": "18ff5b89-75c3-4866-8205-bb63936a1553",
   "metadata": {},
   "source": [
    "1. Start the procedure weighted_edit_distance with the following parameters: s1: The first list of\n",
    "strings, s2: The second list of strings, costs: A dictionary containing the costs for different\n",
    "operations ('insert', 'delete', 'substitute')\n",
    "2. Initialize a matrix dp with dimensions (m+1) x (n+1) where m and n are the lengths of s1 and s2,\n",
    "respectively. Set the initial values for the first row and column of dp to represent the minimum\n",
    "edit distance for empty strings.\n",
    "3. Iterate through s1 and s2 using nested loops starting from index 1: \n",
    "4. If the characters at the corresponding positions in s1 and s2 are the same: \n",
    "5. Set the value of dp[i][j] to the value of dp[i-1][j-1], indicating no cost is incurred for this position. \n",
    "6. If the characters are different: \n",
    "7. Set the value of dp[i][j] to the minimum of three options: \n",
    "8. Deletion: dp[i-1][j] + costs['delete']\n",
    "9. Insertion: dp[i][j-1] + costs['insert'] \n",
    "10. Substitution: dp[i-1][j-1] + costs['substitute'] \n",
    "11. Return the value in the bottom-right corner of dp, which represents the minimum edit distance\n",
    "between s1 and s2."
   ]
  },
  {
   "cell_type": "markdown",
   "id": "6e82b76f-a465-4c7b-8e6b-c0955d1175bc",
   "metadata": {},
   "source": [
    "Source code:"
   ]
  },
  {
   "cell_type": "code",
   "execution_count": 1,
   "id": "c3983208-c26c-46e3-885f-75b025b350e9",
   "metadata": {},
   "outputs": [],
   "source": [
    "import numpy as np"
   ]
  },
  {
   "cell_type": "code",
   "execution_count": 4,
   "id": "08195b7c-9c99-445a-9bdb-6a680b87a510",
   "metadata": {},
   "outputs": [],
   "source": [
    "def weighted_edit_distance(s1, s2, costs):\n",
    "    m, n = len(s1), len(s2)\n",
    "    dp = np.zeros((m+1, n+1))\n",
    "    \n",
    "    # Initialization of base cases\n",
    "    for i in range(m+1):\n",
    "        dp[i][0] = i\n",
    "    for j in range(n+1):\n",
    "        dp[0][j] = j\n",
    "    \n",
    "    # Dynamic programming to compute edit distance\n",
    "    for i in range(1, m+1):\n",
    "        for j in range(1, n+1):\n",
    "            if s1[i-1] == s2[j-1]:\n",
    "                dp[i][j] = dp[i-1][j-1]\n",
    "            else:\n",
    "                dp[i][j] = min(dp[i-1][j] + costs['delete'],\n",
    "                               dp[i][j-1] + costs['insert'],\n",
    "                               dp[i-1][j-1] + costs['substitute'])\n",
    "    return dp[m][n]\n",
    "\n"
   ]
  },
  {
   "cell_type": "code",
   "execution_count": 5,
   "id": "635f4b15-9dcb-4eb4-b67a-b666be8cdcaf",
   "metadata": {},
   "outputs": [
    {
     "name": "stdout",
     "output_type": "stream",
     "text": [
      "2.0\n"
     ]
    }
   ],
   "source": [
    "# Example usage:\n",
    "s1 = ['natural', 'language', 'processing']\n",
    "s2 = ['language', 'natural', 'processing']\n",
    "costs = {'delete': 1, 'insert': 1, 'substitute': 2}\n",
    "distance = weighted_edit_distance(s1, s2, costs)\n",
    "print(distance)"
   ]
  },
  {
   "cell_type": "code",
   "execution_count": null,
   "id": "3e4928a9-e4fb-4205-8ac5-769a4e82187c",
   "metadata": {},
   "outputs": [],
   "source": []
  }
 ],
 "metadata": {
  "kernelspec": {
   "display_name": "Python 3 (ipykernel)",
   "language": "python",
   "name": "python3"
  },
  "language_info": {
   "codemirror_mode": {
    "name": "ipython",
    "version": 3
   },
   "file_extension": ".py",
   "mimetype": "text/x-python",
   "name": "python",
   "nbconvert_exporter": "python",
   "pygments_lexer": "ipython3",
   "version": "3.11.7"
  }
 },
 "nbformat": 4,
 "nbformat_minor": 5
}
