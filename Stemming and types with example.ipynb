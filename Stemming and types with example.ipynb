{
 "cells": [
  {
   "cell_type": "markdown",
   "id": "737a7739-99d2-41f1-a27a-6d3b11247332",
   "metadata": {},
   "source": [
    "# Stemming in NLP"
   ]
  },
  {
   "cell_type": "markdown",
   "id": "062c7b04-81ab-4319-bfc5-7ccc5d864596",
   "metadata": {},
   "source": [
    "The process of removing affixes from a word so that we are left with the stem of that word is called stemming. For example, consider the words ‘run’, ‘running’, and ‘runs’, all convert into the root word ‘run’ after stemming is implemented on them. One crucial point about stem words is that they need not be meaningful. For example, the word ‘traditional’ stem is ‘tradi’ and has no meaning.\n",
    "\n"
   ]
  },
  {
   "attachments": {},
   "cell_type": "markdown",
   "id": "a7ac8014-3975-447a-bcb0-b29ab11aa12d",
   "metadata": {},
   "source": [
    "## Why use Stemming in NLP?\n",
    "The benefits of using the stemming algorithm in an NLP  project can be summarised as follows:\n",
    "1. It reduces the number of words that serve as an input to the Machine Learning/Deep Learning model.\n",
    "2. It minimizes the confusion around words that have similar meanings.\n",
    "3. It lowers the complexity of the input space.\n",
    "\n",
    "4. When creating applications that search a specific text in a document, using stemming for indexing assists in retrieving relevant documents.\n",
    "5. It assists in eliminating the out-of-vocabulary (OOV) problem. For example, if the vocabulary does not contain the word ‘oranges’, one can use the stem word ‘orange’ as a proxy.\n",
    "6. It enhances the accuracy of the ML/DL model as the model does not have to deal with inflected word forms."
   ]
  },
  {
   "cell_type": "markdown",
   "id": "6b408853-968a-4eb0-a46e-ef63a7188086",
   "metadata": {},
   "source": [
    "## Types of Stemming in NLP\n",
    "Let us discuss the three popular types of stemming: \n",
    "1. Porter \n",
    "2. Snowball\n",
    "3. Lancaster."
   ]
  },
  {
   "cell_type": "markdown",
   "id": "7c6f35b3-9496-4ad4-aca3-7fba5eb01cdc",
   "metadata": {},
   "source": [
    "### 1. Porter Stemming in NLP\n",
    "1. SSESS to SS\n",
    "2. IES to I\n",
    "3. SS to SS\n",
    "4. S to _"
   ]
  },
  {
   "cell_type": "code",
   "execution_count": 1,
   "id": "a4808072-1206-4736-86d9-a67e400c9ccf",
   "metadata": {},
   "outputs": [],
   "source": [
    "from nltk.stem import PorterStemmer"
   ]
  },
  {
   "cell_type": "code",
   "execution_count": 2,
   "id": "73a288e8-075d-4118-a795-dd100e669971",
   "metadata": {},
   "outputs": [],
   "source": [
    "# Create a Porter Stemmer instance\n",
    "porter_stemmer = PorterStemmer()"
   ]
  },
  {
   "cell_type": "code",
   "execution_count": 3,
   "id": "e675badf-2612-416c-a819-b53c61705a55",
   "metadata": {},
   "outputs": [],
   "source": [
    "# Example words for stemming\n",
    "words = [\"running\", \"jumps\", \"happily\", \"running\", \"happily\"]"
   ]
  },
  {
   "cell_type": "code",
   "execution_count": 4,
   "id": "e79d4820-ff59-44c5-b562-acca4afe7bb8",
   "metadata": {},
   "outputs": [],
   "source": [
    "# Apply stemming to each word\n",
    "stemmed_words = [porter_stemmer.stem(word) for word in words]"
   ]
  },
  {
   "cell_type": "code",
   "execution_count": 6,
   "id": "c57cbfc0-1df8-468e-9f23-ab23b0477933",
   "metadata": {},
   "outputs": [
    {
     "name": "stdout",
     "output_type": "stream",
     "text": [
      "Original words: ['running', 'jumps', 'happily', 'running', 'happily']\n",
      "Stemmed words: ['run', 'jump', 'happili', 'run', 'happili']\n"
     ]
    }
   ],
   "source": [
    "# Print the results\n",
    "print(\"Original words:\", words)\n",
    "print(\"Stemmed words:\", stemmed_words)"
   ]
  },
  {
   "cell_type": "markdown",
   "id": "e9ace977-fc31-44ad-af6c-65cbb3145148",
   "metadata": {},
   "source": [
    "#### Applying stemming to a word(.docx) and saving it as a text file"
   ]
  },
  {
   "cell_type": "code",
   "execution_count": 7,
   "id": "9df9563e-7a4d-4da5-9899-6decdedf9234",
   "metadata": {},
   "outputs": [],
   "source": [
    "import docx"
   ]
  },
  {
   "cell_type": "code",
   "execution_count": 8,
   "id": "14694046-94f4-4c1e-bb68-51983e7b57dd",
   "metadata": {},
   "outputs": [],
   "source": [
    "doc = docx.Document(r\"C:\\Users\\bhaka\\Documents\\NLP AS-2.docx\")"
   ]
  },
  {
   "cell_type": "code",
   "execution_count": 26,
   "id": "7cd1404d-3dfc-4067-bfe4-d38e28013f1d",
   "metadata": {},
   "outputs": [],
   "source": [
    "# creating an empty list\n",
    "fullText=[]"
   ]
  },
  {
   "cell_type": "code",
   "execution_count": 27,
   "id": "19e0bcac-2e84-4f92-ad2b-0d123e454a1e",
   "metadata": {},
   "outputs": [
    {
     "name": "stdout",
     "output_type": "stream",
     "text": [
      "\n",
      "\n",
      "Que. Word net- Word Sense Disambiguation- Novel Word Sense detection.\n",
      "Word net:\n",
      "WordNet is a lexical database of the English language that organizes words into groups called synsets, which stand for \"synonym sets.\" These synsets contain words that are considered to be cognitive synonyms, meaning they express similar or related concepts. WordNet covers different parts of speech including nouns, verbs, adjectives, and adverbs.\n",
      "Here's a breakdown of the key components and features of WordNet:\n",
      "Synsets: These are sets of words that are considered synonymous or closely related in meaning. Each synset represents a distinct concept. For example, the synset for \"car\" might include words like \"automobile,\" \"vehicle,\" and \"motorcar,\" as they all refer to the same concept.\n",
      "Conceptual-Semantic Relations: Synsets in WordNet are interconnected through conceptual and semantic relationships. These relationships help to organize and link related concepts together. Some common types of conceptual-semantic relations in WordNet include hypernyms (generalizations), hyponyms (specializations), meronyms (part-whole relationships), and holonyms (whole-part relationships).\n",
      "Lexical Relations: WordNet also includes lexical relationships between words within synsets. These relationships capture different aspects of lexical similarity and connection, such as antonyms (words with opposite meanings), synonyms (words with similar meanings), and entailment (logical relationships between verbs).\n",
      "Overall, WordNet provides a structured and comprehensive framework for understanding the lexical and conceptual relationships between words in the English language. It serves as a valuable resource for various natural language processing tasks, including text analysis, semantic search, and machine learning applications.\n",
      "Word Sense Disambiguation (WSD):\n",
      "Word Sense Disambiguation (WSD) is a natural language processing task that involves determining the correct meaning or sense of a word in a given context. Since many words in natural language have multiple meanings, determining the appropriate sense of a word is crucial for understanding and processing text accurately. WSD is particularly important in applications such as machine translation, information retrieval, and text summarization.\n",
      "Here's an explanation of Word Sense Disambiguation with examples:\n",
      "Example 1: \"Bank\"\n",
      "Sentence: \"I deposited my money in the bank.\"\n",
      "In this sentence, the word \"bank\" could refer to a financial institution where one deposits money, or it could refer to the side of a river.\n",
      "Word Sense Disambiguation is needed to determine whether \"bank\" refers to the financial institution (bank_1) or the land alongside a body of water (bank_2).\n",
      "Example 2: \"Bat\"\n",
      "Sentence: \"The bat flew out of the cave.\"\n",
      "Here, \"bat\" could mean a flying mammal, or a sports equipment used in baseball.\n",
      "WSD is necessary to distinguish between the two senses of \"bat\" (bat_1: the mammal, bat_2: the sports equipment).\n",
      "Example 3: \"Apple\"\n",
      "Sentence: \"She picked a ripe apple from the tree.\"\n",
      "In this context, \"apple\" could refer to the fruit or the technology company.\n",
      "WSD would determine whether \"apple\" refers to the fruit (apple_1) or the company (apple_2).\n",
      "Example 4: \"Crane\"\n",
      "Sentence: \"The construction workers used a crane to lift heavy materials.\"\n",
      "\"Crane\" could mean a large bird with a long neck, or a machine used for lifting.\n",
      "WSD is necessary to disambiguate between the bird (crane_1) and the machine (crane_2).\n",
      "In each of these examples, the meaning of the word can significantly impact the interpretation of the sentence. Word Sense Disambiguation techniques aim to analyze the surrounding context and select the most appropriate sense of the ambiguous word based on factors such as syntax, semantics, and discourse information.\n",
      "\n",
      "Novel Word Sense detection : \n",
      "Detecting novel word senses is a challenging task in natural language processing, as it involves identifying new meanings or usages of words that may not be present in existing lexical resources like WordNet. Several methods and techniques have been proposed to address this task.\n",
      "Here are some common approaches:\n",
      "Distributional Semantics Models:\n",
      "Distributional semantics models, such as word embeddings (e.g., Word2Vec, GloVe, fastText), represent words as dense vectors in a high-dimensional space based on their distributional properties in a large text corpus.\n",
      "Novel senses of a word may correspond to clusters of word embeddings that exhibit distinct contextual usage patterns.\n",
      "Techniques like clustering or anomaly detection can be applied to identify clusters of embeddings representing novel senses.\n",
      "Contextual Word Embeddings:\n",
      "Contextual word embeddings, such as BERT, ELMO, and GPT, generate word representations that are sensitive to the surrounding context.\n",
      "By analyzing the contextual embeddings of a word in different contexts, it may be possible to detect shifts in meaning or the emergence of novel senses.\n",
      "Word Sense Induction:\n",
      "Word sense induction methods aim to automatically induce senses of words from unlabeled text.\n",
      "Clustering algorithms, such as k-means or spectral clustering, can be applied to group instances of a word based on their contextual usage, potentially revealing novel senses.\n",
      "Graph-based approaches, like graph clustering or community detection, can also be used to identify clusters of related word senses.\n",
      "Bootstrapping from Raw Text:\n",
      "Bootstrapping methods leverage raw text data to identify novel word senses without relying on pre-existing resources.\n",
      "Techniques such as word sense discovery through word sense induction or topic modeling can be applied to identify new senses based on co-occurrence patterns or topical contexts in the data.\n",
      "Active Learning and Human-in-the-Loop Approaches:\n",
      "Active learning methods involve iteratively querying human annotators or experts to label instances of ambiguous words in context.\n",
      "These labeled data can then be used to train supervised or semi-supervised models for novel word sense detection.\n",
      "Human-in-the-loop approaches combine automated methods with human judgment to iteratively refine and improve the detection of novel senses.\n",
      "Domain-Specific Approaches:\n",
      "Domain-specific knowledge and resources can be leveraged to detect novel word senses in specialized domains.\n",
      "Techniques such as domain adaptation or transfer learning can be applied to adapt existing models or resources to new domains and identify domain-specific word senses.\n",
      "\n"
     ]
    }
   ],
   "source": [
    "for para in doc.paragraphs:\n",
    "    fullText.append(para.text)\n",
    "print('\\n'.join(fullText)) \n"
   ]
  },
  {
   "cell_type": "code",
   "execution_count": 29,
   "id": "b5ec2e3d-fc08-49fe-adb1-09e576db2dbc",
   "metadata": {},
   "outputs": [],
   "source": [
    "from nltk.tokenize import word_tokenize\n",
    "# Tokenize each paragraph into words\n",
    "tokenized_words = []\n",
    "for para in fullText:\n",
    "    tokenized_words.extend(word_tokenize(para))\n"
   ]
  },
  {
   "cell_type": "code",
   "execution_count": 14,
   "id": "1775ca45-6a11-4f00-bdf1-414f481d351e",
   "metadata": {},
   "outputs": [],
   "source": [
    "# Create a Porter Stemmer instance\n",
    "ps = PorterStemmer()\n",
    " "
   ]
  },
  {
   "cell_type": "code",
   "execution_count": 30,
   "id": "50baed98-3064-47c6-8d47-5522d474a246",
   "metadata": {},
   "outputs": [
    {
     "name": "stdout",
     "output_type": "stream",
     "text": [
      "['que', '.', 'word', 'net-', 'word', 'sens', 'disambiguation-', 'novel', 'word', 'sens', 'detect', '.', 'word', 'net', ':', 'wordnet', 'is', 'a', 'lexic', 'databas', 'of', 'the', 'english', 'languag', 'that', 'organ', 'word', 'into', 'group', 'call', 'synset', ',', 'which', 'stand', 'for', '``', 'synonym', 'set', '.', \"''\", 'these', 'synset', 'contain', 'word', 'that', 'are', 'consid', 'to', 'be', 'cognit', 'synonym', ',', 'mean', 'they', 'express', 'similar', 'or', 'relat', 'concept', '.', 'wordnet', 'cover', 'differ', 'part', 'of', 'speech', 'includ', 'noun', ',', 'verb', ',', 'adject', ',', 'and', 'adverb', '.', 'here', \"'s\", 'a', 'breakdown', 'of', 'the', 'key', 'compon', 'and', 'featur', 'of', 'wordnet', ':', 'synset', ':', 'these', 'are', 'set', 'of', 'word', 'that', 'are', 'consid', 'synonym', 'or', 'close', 'relat', 'in', 'mean', '.', 'each', 'synset', 'repres', 'a', 'distinct', 'concept', '.', 'for', 'exampl', ',', 'the', 'synset', 'for', '``', 'car', \"''\", 'might', 'includ', 'word', 'like', '``', 'automobil', ',', \"''\", '``', 'vehicl', ',', \"''\", 'and', '``', 'motorcar', ',', \"''\", 'as', 'they', 'all', 'refer', 'to', 'the', 'same', 'concept', '.', 'conceptual-semant', 'relat', ':', 'synset', 'in', 'wordnet', 'are', 'interconnect', 'through', 'conceptu', 'and', 'semant', 'relationship', '.', 'these', 'relationship', 'help', 'to', 'organ', 'and', 'link', 'relat', 'concept', 'togeth', '.', 'some', 'common', 'type', 'of', 'conceptual-semant', 'relat', 'in', 'wordnet', 'includ', 'hypernym', '(', 'gener', ')', ',', 'hyponym', '(', 'special', ')', ',', 'meronym', '(', 'part-whol', 'relationship', ')', ',', 'and', 'holonym', '(', 'whole-part', 'relationship', ')', '.', 'lexic', 'relat', ':', 'wordnet', 'also', 'includ', 'lexic', 'relationship', 'between', 'word', 'within', 'synset', '.', 'these', 'relationship', 'captur', 'differ', 'aspect', 'of', 'lexic', 'similar', 'and', 'connect', ',', 'such', 'as', 'antonym', '(', 'word', 'with', 'opposit', 'mean', ')', ',', 'synonym', '(', 'word', 'with', 'similar', 'mean', ')', ',', 'and', 'entail', '(', 'logic', 'relationship', 'between', 'verb', ')', '.', 'overal', ',', 'wordnet', 'provid', 'a', 'structur', 'and', 'comprehens', 'framework', 'for', 'understand', 'the', 'lexic', 'and', 'conceptu', 'relationship', 'between', 'word', 'in', 'the', 'english', 'languag', '.', 'it', 'serv', 'as', 'a', 'valuabl', 'resourc', 'for', 'variou', 'natur', 'languag', 'process', 'task', ',', 'includ', 'text', 'analysi', ',', 'semant', 'search', ',', 'and', 'machin', 'learn', 'applic', '.', 'word', 'sens', 'disambigu', '(', 'wsd', ')', ':', 'word', 'sens', 'disambigu', '(', 'wsd', ')', 'is', 'a', 'natur', 'languag', 'process', 'task', 'that', 'involv', 'determin', 'the', 'correct', 'mean', 'or', 'sens', 'of', 'a', 'word', 'in', 'a', 'given', 'context', '.', 'sinc', 'mani', 'word', 'in', 'natur', 'languag', 'have', 'multipl', 'mean', ',', 'determin', 'the', 'appropri', 'sens', 'of', 'a', 'word', 'is', 'crucial', 'for', 'understand', 'and', 'process', 'text', 'accur', '.', 'wsd', 'is', 'particularli', 'import', 'in', 'applic', 'such', 'as', 'machin', 'translat', ',', 'inform', 'retriev', ',', 'and', 'text', 'summar', '.', 'here', \"'s\", 'an', 'explan', 'of', 'word', 'sens', 'disambigu', 'with', 'exampl', ':', 'exampl', '1', ':', '``', 'bank', \"''\", 'sentenc', ':', '``', 'i', 'deposit', 'my', 'money', 'in', 'the', 'bank', '.', \"''\", 'in', 'thi', 'sentenc', ',', 'the', 'word', '``', 'bank', \"''\", 'could', 'refer', 'to', 'a', 'financi', 'institut', 'where', 'one', 'deposit', 'money', ',', 'or', 'it', 'could', 'refer', 'to', 'the', 'side', 'of', 'a', 'river', '.', 'word', 'sens', 'disambigu', 'is', 'need', 'to', 'determin', 'whether', '``', 'bank', \"''\", 'refer', 'to', 'the', 'financi', 'institut', '(', 'bank_1', ')', 'or', 'the', 'land', 'alongsid', 'a', 'bodi', 'of', 'water', '(', 'bank_2', ')', '.', 'exampl', '2', ':', '``', 'bat', \"''\", 'sentenc', ':', '``', 'the', 'bat', 'flew', 'out', 'of', 'the', 'cave', '.', \"''\", 'here', ',', '``', 'bat', \"''\", 'could', 'mean', 'a', 'fli', 'mammal', ',', 'or', 'a', 'sport', 'equip', 'use', 'in', 'basebal', '.', 'wsd', 'is', 'necessari', 'to', 'distinguish', 'between', 'the', 'two', 'sens', 'of', '``', 'bat', \"''\", '(', 'bat_1', ':', 'the', 'mammal', ',', 'bat_2', ':', 'the', 'sport', 'equip', ')', '.', 'exampl', '3', ':', '``', 'appl', \"''\", 'sentenc', ':', '``', 'she', 'pick', 'a', 'ripe', 'appl', 'from', 'the', 'tree', '.', \"''\", 'in', 'thi', 'context', ',', '``', 'appl', \"''\", 'could', 'refer', 'to', 'the', 'fruit', 'or', 'the', 'technolog', 'compani', '.', 'wsd', 'would', 'determin', 'whether', '``', 'appl', \"''\", 'refer', 'to', 'the', 'fruit', '(', 'apple_1', ')', 'or', 'the', 'compani', '(', 'apple_2', ')', '.', 'exampl', '4', ':', '``', 'crane', \"''\", 'sentenc', ':', '``', 'the', 'construct', 'worker', 'use', 'a', 'crane', 'to', 'lift', 'heavi', 'materi', '.', \"''\", '``', 'crane', \"''\", 'could', 'mean', 'a', 'larg', 'bird', 'with', 'a', 'long', 'neck', ',', 'or', 'a', 'machin', 'use', 'for', 'lift', '.', 'wsd', 'is', 'necessari', 'to', 'disambigu', 'between', 'the', 'bird', '(', 'crane_1', ')', 'and', 'the', 'machin', '(', 'crane_2', ')', '.', 'in', 'each', 'of', 'these', 'exampl', ',', 'the', 'mean', 'of', 'the', 'word', 'can', 'significantli', 'impact', 'the', 'interpret', 'of', 'the', 'sentenc', '.', 'word', 'sens', 'disambigu', 'techniqu', 'aim', 'to', 'analyz', 'the', 'surround', 'context', 'and', 'select', 'the', 'most', 'appropri', 'sens', 'of', 'the', 'ambigu', 'word', 'base', 'on', 'factor', 'such', 'as', 'syntax', ',', 'semant', ',', 'and', 'discours', 'inform', '.', 'novel', 'word', 'sens', 'detect', ':', 'detect', 'novel', 'word', 'sens', 'is', 'a', 'challeng', 'task', 'in', 'natur', 'languag', 'process', ',', 'as', 'it', 'involv', 'identifi', 'new', 'mean', 'or', 'usag', 'of', 'word', 'that', 'may', 'not', 'be', 'present', 'in', 'exist', 'lexic', 'resourc', 'like', 'wordnet', '.', 'sever', 'method', 'and', 'techniqu', 'have', 'been', 'propos', 'to', 'address', 'thi', 'task', '.', 'here', 'are', 'some', 'common', 'approach', ':', 'distribut', 'semant', 'model', ':', 'distribut', 'semant', 'model', ',', 'such', 'as', 'word', 'embed', '(', 'e.g.', ',', 'word2vec', ',', 'glove', ',', 'fasttext', ')', ',', 'repres', 'word', 'as', 'dens', 'vector', 'in', 'a', 'high-dimension', 'space', 'base', 'on', 'their', 'distribut', 'properti', 'in', 'a', 'larg', 'text', 'corpu', '.', 'novel', 'sens', 'of', 'a', 'word', 'may', 'correspond', 'to', 'cluster', 'of', 'word', 'embed', 'that', 'exhibit', 'distinct', 'contextu', 'usag', 'pattern', '.', 'techniqu', 'like', 'cluster', 'or', 'anomali', 'detect', 'can', 'be', 'appli', 'to', 'identifi', 'cluster', 'of', 'embed', 'repres', 'novel', 'sens', '.', 'contextu', 'word', 'embed', ':', 'contextu', 'word', 'embed', ',', 'such', 'as', 'bert', ',', 'elmo', ',', 'and', 'gpt', ',', 'gener', 'word', 'represent', 'that', 'are', 'sensit', 'to', 'the', 'surround', 'context', '.', 'by', 'analyz', 'the', 'contextu', 'embed', 'of', 'a', 'word', 'in', 'differ', 'context', ',', 'it', 'may', 'be', 'possibl', 'to', 'detect', 'shift', 'in', 'mean', 'or', 'the', 'emerg', 'of', 'novel', 'sens', '.', 'word', 'sens', 'induct', ':', 'word', 'sens', 'induct', 'method', 'aim', 'to', 'automat', 'induc', 'sens', 'of', 'word', 'from', 'unlabel', 'text', '.', 'cluster', 'algorithm', ',', 'such', 'as', 'k-mean', 'or', 'spectral', 'cluster', ',', 'can', 'be', 'appli', 'to', 'group', 'instanc', 'of', 'a', 'word', 'base', 'on', 'their', 'contextu', 'usag', ',', 'potenti', 'reveal', 'novel', 'sens', '.', 'graph-bas', 'approach', ',', 'like', 'graph', 'cluster', 'or', 'commun', 'detect', ',', 'can', 'also', 'be', 'use', 'to', 'identifi', 'cluster', 'of', 'relat', 'word', 'sens', '.', 'bootstrap', 'from', 'raw', 'text', ':', 'bootstrap', 'method', 'leverag', 'raw', 'text', 'data', 'to', 'identifi', 'novel', 'word', 'sens', 'without', 'reli', 'on', 'pre-exist', 'resourc', '.', 'techniqu', 'such', 'as', 'word', 'sens', 'discoveri', 'through', 'word', 'sens', 'induct', 'or', 'topic', 'model', 'can', 'be', 'appli', 'to', 'identifi', 'new', 'sens', 'base', 'on', 'co-occurr', 'pattern', 'or', 'topic', 'context', 'in', 'the', 'data', '.', 'activ', 'learn', 'and', 'human-in-the-loop', 'approach', ':', 'activ', 'learn', 'method', 'involv', 'iter', 'queri', 'human', 'annot', 'or', 'expert', 'to', 'label', 'instanc', 'of', 'ambigu', 'word', 'in', 'context', '.', 'these', 'label', 'data', 'can', 'then', 'be', 'use', 'to', 'train', 'supervis', 'or', 'semi-supervis', 'model', 'for', 'novel', 'word', 'sens', 'detect', '.', 'human-in-the-loop', 'approach', 'combin', 'autom', 'method', 'with', 'human', 'judgment', 'to', 'iter', 'refin', 'and', 'improv', 'the', 'detect', 'of', 'novel', 'sens', '.', 'domain-specif', 'approach', ':', 'domain-specif', 'knowledg', 'and', 'resourc', 'can', 'be', 'leverag', 'to', 'detect', 'novel', 'word', 'sens', 'in', 'special', 'domain', '.', 'techniqu', 'such', 'as', 'domain', 'adapt', 'or', 'transfer', 'learn', 'can', 'be', 'appli', 'to', 'adapt', 'exist', 'model', 'or', 'resourc', 'to', 'new', 'domain', 'and', 'identifi', 'domain-specif', 'word', 'sens', '.']\n"
     ]
    }
   ],
   "source": [
    "# Apply stemming to each word\n",
    "# Apply stemming to each word\n",
    "stemmed_words = [ps.stem(word) for word in tokenized_words]\n",
    "print(stemmed_words)"
   ]
  },
  {
   "cell_type": "markdown",
   "id": "6dab42cc-96f0-4dfd-98da-423fa12faf97",
   "metadata": {},
   "source": [
    "## 2.Snowball Stemming in NLP\n",
    "This stemming algorithm is also known as the Porter2 algorithm because it is an improved version of the Porter algorithm that supports multiple languages. It is more accurate than the Porter algorithm and works with Unicode and string data."
   ]
  },
  {
   "cell_type": "code",
   "execution_count": 40,
   "id": "939ddaab-1729-4bb0-a026-61fb18ccdc61",
   "metadata": {},
   "outputs": [],
   "source": [
    "from nltk.stem import SnowballStemmer"
   ]
  },
  {
   "cell_type": "code",
   "execution_count": 42,
   "id": "aedaf2ae-8e8d-4af3-82f6-538c0b38dcee",
   "metadata": {},
   "outputs": [],
   "source": [
    "s=SnowballStemmer('english')"
   ]
  },
  {
   "cell_type": "code",
   "execution_count": 43,
   "id": "fffa3d3f-2972-4acd-bd23-7be383e4485e",
   "metadata": {},
   "outputs": [
    {
     "name": "stdout",
     "output_type": "stream",
     "text": [
      "['Que', '.', 'Word', 'net-', 'Word', 'Sense', 'Disambiguation-', 'Novel', 'Word', 'Sense', 'detection', '.', 'Word', 'net', ':', 'WordNet', 'is', 'a', 'lexical', 'database', 'of', 'the', 'English', 'language', 'that', 'organizes', 'words', 'into', 'groups', 'called', 'synsets', ',', 'which', 'stand', 'for', '``', 'synonym', 'sets', '.', \"''\", 'These', 'synsets', 'contain', 'words', 'that', 'are', 'considered', 'to', 'be', 'cognitive', 'synonyms', ',', 'meaning', 'they', 'express', 'similar', 'or', 'related', 'concepts', '.', 'WordNet', 'covers', 'different', 'parts', 'of', 'speech', 'including', 'nouns', ',', 'verbs', ',', 'adjectives', ',', 'and', 'adverbs', '.', 'Here', \"'s\", 'a', 'breakdown', 'of', 'the', 'key', 'components', 'and', 'features', 'of', 'WordNet', ':', 'Synsets', ':', 'These', 'are', 'sets', 'of', 'words', 'that', 'are', 'considered', 'synonymous', 'or', 'closely', 'related', 'in', 'meaning', '.', 'Each', 'synset', 'represents', 'a', 'distinct', 'concept', '.', 'For', 'example', ',', 'the', 'synset', 'for', '``', 'car', \"''\", 'might', 'include', 'words', 'like', '``', 'automobile', ',', \"''\", '``', 'vehicle', ',', \"''\", 'and', '``', 'motorcar', ',', \"''\", 'as', 'they', 'all', 'refer', 'to', 'the', 'same', 'concept', '.', 'Conceptual-Semantic', 'Relations', ':', 'Synsets', 'in', 'WordNet', 'are', 'interconnected', 'through', 'conceptual', 'and', 'semantic', 'relationships', '.', 'These', 'relationships', 'help', 'to', 'organize', 'and', 'link', 'related', 'concepts', 'together', '.', 'Some', 'common', 'types', 'of', 'conceptual-semantic', 'relations', 'in', 'WordNet', 'include', 'hypernyms', '(', 'generalizations', ')', ',', 'hyponyms', '(', 'specializations', ')', ',', 'meronyms', '(', 'part-whole', 'relationships', ')', ',', 'and', 'holonyms', '(', 'whole-part', 'relationships', ')', '.', 'Lexical', 'Relations', ':', 'WordNet', 'also', 'includes', 'lexical', 'relationships', 'between', 'words', 'within', 'synsets', '.', 'These', 'relationships', 'capture', 'different', 'aspects', 'of', 'lexical', 'similarity', 'and', 'connection', ',', 'such', 'as', 'antonyms', '(', 'words', 'with', 'opposite', 'meanings', ')', ',', 'synonyms', '(', 'words', 'with', 'similar', 'meanings', ')', ',', 'and', 'entailment', '(', 'logical', 'relationships', 'between', 'verbs', ')', '.', 'Overall', ',', 'WordNet', 'provides', 'a', 'structured', 'and', 'comprehensive', 'framework', 'for', 'understanding', 'the', 'lexical', 'and', 'conceptual', 'relationships', 'between', 'words', 'in', 'the', 'English', 'language', '.', 'It', 'serves', 'as', 'a', 'valuable', 'resource', 'for', 'various', 'natural', 'language', 'processing', 'tasks', ',', 'including', 'text', 'analysis', ',', 'semantic', 'search', ',', 'and', 'machine', 'learning', 'applications', '.', 'Word', 'Sense', 'Disambiguation', '(', 'WSD', ')', ':', 'Word', 'Sense', 'Disambiguation', '(', 'WSD', ')', 'is', 'a', 'natural', 'language', 'processing', 'task', 'that', 'involves', 'determining', 'the', 'correct', 'meaning', 'or', 'sense', 'of', 'a', 'word', 'in', 'a', 'given', 'context', '.', 'Since', 'many', 'words', 'in', 'natural', 'language', 'have', 'multiple', 'meanings', ',', 'determining', 'the', 'appropriate', 'sense', 'of', 'a', 'word', 'is', 'crucial', 'for', 'understanding', 'and', 'processing', 'text', 'accurately', '.', 'WSD', 'is', 'particularly', 'important', 'in', 'applications', 'such', 'as', 'machine', 'translation', ',', 'information', 'retrieval', ',', 'and', 'text', 'summarization', '.', 'Here', \"'s\", 'an', 'explanation', 'of', 'Word', 'Sense', 'Disambiguation', 'with', 'examples', ':', 'Example', '1', ':', '``', 'Bank', \"''\", 'Sentence', ':', '``', 'I', 'deposited', 'my', 'money', 'in', 'the', 'bank', '.', \"''\", 'In', 'this', 'sentence', ',', 'the', 'word', '``', 'bank', \"''\", 'could', 'refer', 'to', 'a', 'financial', 'institution', 'where', 'one', 'deposits', 'money', ',', 'or', 'it', 'could', 'refer', 'to', 'the', 'side', 'of', 'a', 'river', '.', 'Word', 'Sense', 'Disambiguation', 'is', 'needed', 'to', 'determine', 'whether', '``', 'bank', \"''\", 'refers', 'to', 'the', 'financial', 'institution', '(', 'bank_1', ')', 'or', 'the', 'land', 'alongside', 'a', 'body', 'of', 'water', '(', 'bank_2', ')', '.', 'Example', '2', ':', '``', 'Bat', \"''\", 'Sentence', ':', '``', 'The', 'bat', 'flew', 'out', 'of', 'the', 'cave', '.', \"''\", 'Here', ',', '``', 'bat', \"''\", 'could', 'mean', 'a', 'flying', 'mammal', ',', 'or', 'a', 'sports', 'equipment', 'used', 'in', 'baseball', '.', 'WSD', 'is', 'necessary', 'to', 'distinguish', 'between', 'the', 'two', 'senses', 'of', '``', 'bat', \"''\", '(', 'bat_1', ':', 'the', 'mammal', ',', 'bat_2', ':', 'the', 'sports', 'equipment', ')', '.', 'Example', '3', ':', '``', 'Apple', \"''\", 'Sentence', ':', '``', 'She', 'picked', 'a', 'ripe', 'apple', 'from', 'the', 'tree', '.', \"''\", 'In', 'this', 'context', ',', '``', 'apple', \"''\", 'could', 'refer', 'to', 'the', 'fruit', 'or', 'the', 'technology', 'company', '.', 'WSD', 'would', 'determine', 'whether', '``', 'apple', \"''\", 'refers', 'to', 'the', 'fruit', '(', 'apple_1', ')', 'or', 'the', 'company', '(', 'apple_2', ')', '.', 'Example', '4', ':', '``', 'Crane', \"''\", 'Sentence', ':', '``', 'The', 'construction', 'workers', 'used', 'a', 'crane', 'to', 'lift', 'heavy', 'materials', '.', \"''\", '``', 'Crane', \"''\", 'could', 'mean', 'a', 'large', 'bird', 'with', 'a', 'long', 'neck', ',', 'or', 'a', 'machine', 'used', 'for', 'lifting', '.', 'WSD', 'is', 'necessary', 'to', 'disambiguate', 'between', 'the', 'bird', '(', 'crane_1', ')', 'and', 'the', 'machine', '(', 'crane_2', ')', '.', 'In', 'each', 'of', 'these', 'examples', ',', 'the', 'meaning', 'of', 'the', 'word', 'can', 'significantly', 'impact', 'the', 'interpretation', 'of', 'the', 'sentence', '.', 'Word', 'Sense', 'Disambiguation', 'techniques', 'aim', 'to', 'analyze', 'the', 'surrounding', 'context', 'and', 'select', 'the', 'most', 'appropriate', 'sense', 'of', 'the', 'ambiguous', 'word', 'based', 'on', 'factors', 'such', 'as', 'syntax', ',', 'semantics', ',', 'and', 'discourse', 'information', '.', 'Novel', 'Word', 'Sense', 'detection', ':', 'Detecting', 'novel', 'word', 'senses', 'is', 'a', 'challenging', 'task', 'in', 'natural', 'language', 'processing', ',', 'as', 'it', 'involves', 'identifying', 'new', 'meanings', 'or', 'usages', 'of', 'words', 'that', 'may', 'not', 'be', 'present', 'in', 'existing', 'lexical', 'resources', 'like', 'WordNet', '.', 'Several', 'methods', 'and', 'techniques', 'have', 'been', 'proposed', 'to', 'address', 'this', 'task', '.', 'Here', 'are', 'some', 'common', 'approaches', ':', 'Distributional', 'Semantics', 'Models', ':', 'Distributional', 'semantics', 'models', ',', 'such', 'as', 'word', 'embeddings', '(', 'e.g.', ',', 'Word2Vec', ',', 'GloVe', ',', 'fastText', ')', ',', 'represent', 'words', 'as', 'dense', 'vectors', 'in', 'a', 'high-dimensional', 'space', 'based', 'on', 'their', 'distributional', 'properties', 'in', 'a', 'large', 'text', 'corpus', '.', 'Novel', 'senses', 'of', 'a', 'word', 'may', 'correspond', 'to', 'clusters', 'of', 'word', 'embeddings', 'that', 'exhibit', 'distinct', 'contextual', 'usage', 'patterns', '.', 'Techniques', 'like', 'clustering', 'or', 'anomaly', 'detection', 'can', 'be', 'applied', 'to', 'identify', 'clusters', 'of', 'embeddings', 'representing', 'novel', 'senses', '.', 'Contextual', 'Word', 'Embeddings', ':', 'Contextual', 'word', 'embeddings', ',', 'such', 'as', 'BERT', ',', 'ELMO', ',', 'and', 'GPT', ',', 'generate', 'word', 'representations', 'that', 'are', 'sensitive', 'to', 'the', 'surrounding', 'context', '.', 'By', 'analyzing', 'the', 'contextual', 'embeddings', 'of', 'a', 'word', 'in', 'different', 'contexts', ',', 'it', 'may', 'be', 'possible', 'to', 'detect', 'shifts', 'in', 'meaning', 'or', 'the', 'emergence', 'of', 'novel', 'senses', '.', 'Word', 'Sense', 'Induction', ':', 'Word', 'sense', 'induction', 'methods', 'aim', 'to', 'automatically', 'induce', 'senses', 'of', 'words', 'from', 'unlabeled', 'text', '.', 'Clustering', 'algorithms', ',', 'such', 'as', 'k-means', 'or', 'spectral', 'clustering', ',', 'can', 'be', 'applied', 'to', 'group', 'instances', 'of', 'a', 'word', 'based', 'on', 'their', 'contextual', 'usage', ',', 'potentially', 'revealing', 'novel', 'senses', '.', 'Graph-based', 'approaches', ',', 'like', 'graph', 'clustering', 'or', 'community', 'detection', ',', 'can', 'also', 'be', 'used', 'to', 'identify', 'clusters', 'of', 'related', 'word', 'senses', '.', 'Bootstrapping', 'from', 'Raw', 'Text', ':', 'Bootstrapping', 'methods', 'leverage', 'raw', 'text', 'data', 'to', 'identify', 'novel', 'word', 'senses', 'without', 'relying', 'on', 'pre-existing', 'resources', '.', 'Techniques', 'such', 'as', 'word', 'sense', 'discovery', 'through', 'word', 'sense', 'induction', 'or', 'topic', 'modeling', 'can', 'be', 'applied', 'to', 'identify', 'new', 'senses', 'based', 'on', 'co-occurrence', 'patterns', 'or', 'topical', 'contexts', 'in', 'the', 'data', '.', 'Active', 'Learning', 'and', 'Human-in-the-Loop', 'Approaches', ':', 'Active', 'learning', 'methods', 'involve', 'iteratively', 'querying', 'human', 'annotators', 'or', 'experts', 'to', 'label', 'instances', 'of', 'ambiguous', 'words', 'in', 'context', '.', 'These', 'labeled', 'data', 'can', 'then', 'be', 'used', 'to', 'train', 'supervised', 'or', 'semi-supervised', 'models', 'for', 'novel', 'word', 'sense', 'detection', '.', 'Human-in-the-loop', 'approaches', 'combine', 'automated', 'methods', 'with', 'human', 'judgment', 'to', 'iteratively', 'refine', 'and', 'improve', 'the', 'detection', 'of', 'novel', 'senses', '.', 'Domain-Specific', 'Approaches', ':', 'Domain-specific', 'knowledge', 'and', 'resources', 'can', 'be', 'leveraged', 'to', 'detect', 'novel', 'word', 'senses', 'in', 'specialized', 'domains', '.', 'Techniques', 'such', 'as', 'domain', 'adaptation', 'or', 'transfer', 'learning', 'can', 'be', 'applied', 'to', 'adapt', 'existing', 'models', 'or', 'resources', 'to', 'new', 'domains', 'and', 'identify', 'domain-specific', 'word', 'senses', '.']\n"
     ]
    }
   ],
   "source": [
    "tokenized_word=[]\n",
    "for para in fullText:\n",
    "    tokenized_word.extend(word_tokenize(para))\n",
    "print(tokenized_word)"
   ]
  },
  {
   "cell_type": "code",
   "execution_count": 45,
   "id": "41f56723-07c3-4944-a6e0-13a28acb0234",
   "metadata": {},
   "outputs": [
    {
     "name": "stdout",
     "output_type": "stream",
     "text": [
      "['que', '.', 'word', 'net-', 'word', 'sens', 'disambiguation-', 'novel', 'word', 'sens', 'detect', '.', 'word', 'net', ':', 'wordnet', 'is', 'a', 'lexic', 'databas', 'of', 'the', 'english', 'languag', 'that', 'organ', 'word', 'into', 'group', 'call', 'synset', ',', 'which', 'stand', 'for', '``', 'synonym', 'set', '.', \"''\", 'these', 'synset', 'contain', 'word', 'that', 'are', 'consid', 'to', 'be', 'cognit', 'synonym', ',', 'mean', 'they', 'express', 'similar', 'or', 'relat', 'concept', '.', 'wordnet', 'cover', 'differ', 'part', 'of', 'speech', 'includ', 'noun', ',', 'verb', ',', 'adject', ',', 'and', 'adverb', '.', 'here', \"'s\", 'a', 'breakdown', 'of', 'the', 'key', 'compon', 'and', 'featur', 'of', 'wordnet', ':', 'synset', ':', 'these', 'are', 'set', 'of', 'word', 'that', 'are', 'consid', 'synonym', 'or', 'close', 'relat', 'in', 'mean', '.', 'each', 'synset', 'repres', 'a', 'distinct', 'concept', '.', 'for', 'exampl', ',', 'the', 'synset', 'for', '``', 'car', \"''\", 'might', 'includ', 'word', 'like', '``', 'automobil', ',', \"''\", '``', 'vehicl', ',', \"''\", 'and', '``', 'motorcar', ',', \"''\", 'as', 'they', 'all', 'refer', 'to', 'the', 'same', 'concept', '.', 'conceptual-semant', 'relat', ':', 'synset', 'in', 'wordnet', 'are', 'interconnect', 'through', 'conceptu', 'and', 'semant', 'relationship', '.', 'these', 'relationship', 'help', 'to', 'organ', 'and', 'link', 'relat', 'concept', 'togeth', '.', 'some', 'common', 'type', 'of', 'conceptual-semant', 'relat', 'in', 'wordnet', 'includ', 'hypernym', '(', 'general', ')', ',', 'hyponym', '(', 'special', ')', ',', 'meronym', '(', 'part-whol', 'relationship', ')', ',', 'and', 'holonym', '(', 'whole-part', 'relationship', ')', '.', 'lexic', 'relat', ':', 'wordnet', 'also', 'includ', 'lexic', 'relationship', 'between', 'word', 'within', 'synset', '.', 'these', 'relationship', 'captur', 'differ', 'aspect', 'of', 'lexic', 'similar', 'and', 'connect', ',', 'such', 'as', 'antonym', '(', 'word', 'with', 'opposit', 'mean', ')', ',', 'synonym', '(', 'word', 'with', 'similar', 'mean', ')', ',', 'and', 'entail', '(', 'logic', 'relationship', 'between', 'verb', ')', '.', 'overal', ',', 'wordnet', 'provid', 'a', 'structur', 'and', 'comprehens', 'framework', 'for', 'understand', 'the', 'lexic', 'and', 'conceptu', 'relationship', 'between', 'word', 'in', 'the', 'english', 'languag', '.', 'it', 'serv', 'as', 'a', 'valuabl', 'resourc', 'for', 'various', 'natur', 'languag', 'process', 'task', ',', 'includ', 'text', 'analysi', ',', 'semant', 'search', ',', 'and', 'machin', 'learn', 'applic', '.', 'word', 'sens', 'disambigu', '(', 'wsd', ')', ':', 'word', 'sens', 'disambigu', '(', 'wsd', ')', 'is', 'a', 'natur', 'languag', 'process', 'task', 'that', 'involv', 'determin', 'the', 'correct', 'mean', 'or', 'sens', 'of', 'a', 'word', 'in', 'a', 'given', 'context', '.', 'sinc', 'mani', 'word', 'in', 'natur', 'languag', 'have', 'multipl', 'mean', ',', 'determin', 'the', 'appropri', 'sens', 'of', 'a', 'word', 'is', 'crucial', 'for', 'understand', 'and', 'process', 'text', 'accur', '.', 'wsd', 'is', 'particular', 'import', 'in', 'applic', 'such', 'as', 'machin', 'translat', ',', 'inform', 'retriev', ',', 'and', 'text', 'summar', '.', 'here', \"'s\", 'an', 'explan', 'of', 'word', 'sens', 'disambigu', 'with', 'exampl', ':', 'exampl', '1', ':', '``', 'bank', \"''\", 'sentenc', ':', '``', 'i', 'deposit', 'my', 'money', 'in', 'the', 'bank', '.', \"''\", 'in', 'this', 'sentenc', ',', 'the', 'word', '``', 'bank', \"''\", 'could', 'refer', 'to', 'a', 'financi', 'institut', 'where', 'one', 'deposit', 'money', ',', 'or', 'it', 'could', 'refer', 'to', 'the', 'side', 'of', 'a', 'river', '.', 'word', 'sens', 'disambigu', 'is', 'need', 'to', 'determin', 'whether', '``', 'bank', \"''\", 'refer', 'to', 'the', 'financi', 'institut', '(', 'bank_1', ')', 'or', 'the', 'land', 'alongsid', 'a', 'bodi', 'of', 'water', '(', 'bank_2', ')', '.', 'exampl', '2', ':', '``', 'bat', \"''\", 'sentenc', ':', '``', 'the', 'bat', 'flew', 'out', 'of', 'the', 'cave', '.', \"''\", 'here', ',', '``', 'bat', \"''\", 'could', 'mean', 'a', 'fli', 'mammal', ',', 'or', 'a', 'sport', 'equip', 'use', 'in', 'basebal', '.', 'wsd', 'is', 'necessari', 'to', 'distinguish', 'between', 'the', 'two', 'sens', 'of', '``', 'bat', \"''\", '(', 'bat_1', ':', 'the', 'mammal', ',', 'bat_2', ':', 'the', 'sport', 'equip', ')', '.', 'exampl', '3', ':', '``', 'appl', \"''\", 'sentenc', ':', '``', 'she', 'pick', 'a', 'ripe', 'appl', 'from', 'the', 'tree', '.', \"''\", 'in', 'this', 'context', ',', '``', 'appl', \"''\", 'could', 'refer', 'to', 'the', 'fruit', 'or', 'the', 'technolog', 'compani', '.', 'wsd', 'would', 'determin', 'whether', '``', 'appl', \"''\", 'refer', 'to', 'the', 'fruit', '(', 'apple_1', ')', 'or', 'the', 'compani', '(', 'apple_2', ')', '.', 'exampl', '4', ':', '``', 'crane', \"''\", 'sentenc', ':', '``', 'the', 'construct', 'worker', 'use', 'a', 'crane', 'to', 'lift', 'heavi', 'materi', '.', \"''\", '``', 'crane', \"''\", 'could', 'mean', 'a', 'larg', 'bird', 'with', 'a', 'long', 'neck', ',', 'or', 'a', 'machin', 'use', 'for', 'lift', '.', 'wsd', 'is', 'necessari', 'to', 'disambigu', 'between', 'the', 'bird', '(', 'crane_1', ')', 'and', 'the', 'machin', '(', 'crane_2', ')', '.', 'in', 'each', 'of', 'these', 'exampl', ',', 'the', 'mean', 'of', 'the', 'word', 'can', 'signific', 'impact', 'the', 'interpret', 'of', 'the', 'sentenc', '.', 'word', 'sens', 'disambigu', 'techniqu', 'aim', 'to', 'analyz', 'the', 'surround', 'context', 'and', 'select', 'the', 'most', 'appropri', 'sens', 'of', 'the', 'ambigu', 'word', 'base', 'on', 'factor', 'such', 'as', 'syntax', ',', 'semant', ',', 'and', 'discours', 'inform', '.', 'novel', 'word', 'sens', 'detect', ':', 'detect', 'novel', 'word', 'sens', 'is', 'a', 'challeng', 'task', 'in', 'natur', 'languag', 'process', ',', 'as', 'it', 'involv', 'identifi', 'new', 'mean', 'or', 'usag', 'of', 'word', 'that', 'may', 'not', 'be', 'present', 'in', 'exist', 'lexic', 'resourc', 'like', 'wordnet', '.', 'sever', 'method', 'and', 'techniqu', 'have', 'been', 'propos', 'to', 'address', 'this', 'task', '.', 'here', 'are', 'some', 'common', 'approach', ':', 'distribut', 'semant', 'model', ':', 'distribut', 'semant', 'model', ',', 'such', 'as', 'word', 'embed', '(', 'e.g.', ',', 'word2vec', ',', 'glove', ',', 'fasttext', ')', ',', 'repres', 'word', 'as', 'dens', 'vector', 'in', 'a', 'high-dimension', 'space', 'base', 'on', 'their', 'distribut', 'properti', 'in', 'a', 'larg', 'text', 'corpus', '.', 'novel', 'sens', 'of', 'a', 'word', 'may', 'correspond', 'to', 'cluster', 'of', 'word', 'embed', 'that', 'exhibit', 'distinct', 'contextu', 'usag', 'pattern', '.', 'techniqu', 'like', 'cluster', 'or', 'anomali', 'detect', 'can', 'be', 'appli', 'to', 'identifi', 'cluster', 'of', 'embed', 'repres', 'novel', 'sens', '.', 'contextu', 'word', 'embed', ':', 'contextu', 'word', 'embed', ',', 'such', 'as', 'bert', ',', 'elmo', ',', 'and', 'gpt', ',', 'generat', 'word', 'represent', 'that', 'are', 'sensit', 'to', 'the', 'surround', 'context', '.', 'by', 'analyz', 'the', 'contextu', 'embed', 'of', 'a', 'word', 'in', 'differ', 'context', ',', 'it', 'may', 'be', 'possibl', 'to', 'detect', 'shift', 'in', 'mean', 'or', 'the', 'emerg', 'of', 'novel', 'sens', '.', 'word', 'sens', 'induct', ':', 'word', 'sens', 'induct', 'method', 'aim', 'to', 'automat', 'induc', 'sens', 'of', 'word', 'from', 'unlabel', 'text', '.', 'cluster', 'algorithm', ',', 'such', 'as', 'k-mean', 'or', 'spectral', 'cluster', ',', 'can', 'be', 'appli', 'to', 'group', 'instanc', 'of', 'a', 'word', 'base', 'on', 'their', 'contextu', 'usag', ',', 'potenti', 'reveal', 'novel', 'sens', '.', 'graph-bas', 'approach', ',', 'like', 'graph', 'cluster', 'or', 'communiti', 'detect', ',', 'can', 'also', 'be', 'use', 'to', 'identifi', 'cluster', 'of', 'relat', 'word', 'sens', '.', 'bootstrap', 'from', 'raw', 'text', ':', 'bootstrap', 'method', 'leverag', 'raw', 'text', 'data', 'to', 'identifi', 'novel', 'word', 'sens', 'without', 'reli', 'on', 'pre-exist', 'resourc', '.', 'techniqu', 'such', 'as', 'word', 'sens', 'discoveri', 'through', 'word', 'sens', 'induct', 'or', 'topic', 'model', 'can', 'be', 'appli', 'to', 'identifi', 'new', 'sens', 'base', 'on', 'co-occurr', 'pattern', 'or', 'topic', 'context', 'in', 'the', 'data', '.', 'activ', 'learn', 'and', 'human-in-the-loop', 'approach', ':', 'activ', 'learn', 'method', 'involv', 'iter', 'queri', 'human', 'annot', 'or', 'expert', 'to', 'label', 'instanc', 'of', 'ambigu', 'word', 'in', 'context', '.', 'these', 'label', 'data', 'can', 'then', 'be', 'use', 'to', 'train', 'supervis', 'or', 'semi-supervis', 'model', 'for', 'novel', 'word', 'sens', 'detect', '.', 'human-in-the-loop', 'approach', 'combin', 'autom', 'method', 'with', 'human', 'judgment', 'to', 'iter', 'refin', 'and', 'improv', 'the', 'detect', 'of', 'novel', 'sens', '.', 'domain-specif', 'approach', ':', 'domain-specif', 'knowledg', 'and', 'resourc', 'can', 'be', 'leverag', 'to', 'detect', 'novel', 'word', 'sens', 'in', 'special', 'domain', '.', 'techniqu', 'such', 'as', 'domain', 'adapt', 'or', 'transfer', 'learn', 'can', 'be', 'appli', 'to', 'adapt', 'exist', 'model', 'or', 'resourc', 'to', 'new', 'domain', 'and', 'identifi', 'domain-specif', 'word', 'sens', '.']\n"
     ]
    }
   ],
   "source": [
    "stemmed_wrd=[s.stem(word) for word in tokenized_words]\n",
    "print(stemmed_wrd)"
   ]
  },
  {
   "cell_type": "markdown",
   "id": "99f10c95-2e4f-42be-999c-99a7c96bfb4c",
   "metadata": {},
   "source": [
    "## 3. Lancaster Stemming in NLP\n",
    "This stemming algorithm is one of the fastest algorithms available out there. Unlike Snowball stemmer and Porter stemmer, the stem words in this algorithm are not intuitive. "
   ]
  },
  {
   "cell_type": "code",
   "execution_count": 46,
   "id": "3ed148a7-ad60-49cc-8139-48f0deaa87eb",
   "metadata": {},
   "outputs": [],
   "source": [
    "from nltk.stem import LancasterStemmer"
   ]
  },
  {
   "cell_type": "code",
   "execution_count": 52,
   "id": "13d0a355-9d93-4a69-8699-5e38b8acd4a2",
   "metadata": {},
   "outputs": [],
   "source": [
    "ls=LancasterStemmer()"
   ]
  },
  {
   "cell_type": "code",
   "execution_count": 53,
   "id": "548e0b2e-42e3-4447-ac40-61b75a28a4bb",
   "metadata": {},
   "outputs": [
    {
     "name": "stdout",
     "output_type": "stream",
     "text": [
      "['Que', '.', 'Word', 'net-', 'Word', 'Sense', 'Disambiguation-', 'Novel', 'Word', 'Sense', 'detection', '.', 'Word', 'net', ':', 'WordNet', 'is', 'a', 'lexical', 'database', 'of', 'the', 'English', 'language', 'that', 'organizes', 'words', 'into', 'groups', 'called', 'synsets', ',', 'which', 'stand', 'for', '``', 'synonym', 'sets', '.', \"''\", 'These', 'synsets', 'contain', 'words', 'that', 'are', 'considered', 'to', 'be', 'cognitive', 'synonyms', ',', 'meaning', 'they', 'express', 'similar', 'or', 'related', 'concepts', '.', 'WordNet', 'covers', 'different', 'parts', 'of', 'speech', 'including', 'nouns', ',', 'verbs', ',', 'adjectives', ',', 'and', 'adverbs', '.', 'Here', \"'s\", 'a', 'breakdown', 'of', 'the', 'key', 'components', 'and', 'features', 'of', 'WordNet', ':', 'Synsets', ':', 'These', 'are', 'sets', 'of', 'words', 'that', 'are', 'considered', 'synonymous', 'or', 'closely', 'related', 'in', 'meaning', '.', 'Each', 'synset', 'represents', 'a', 'distinct', 'concept', '.', 'For', 'example', ',', 'the', 'synset', 'for', '``', 'car', \"''\", 'might', 'include', 'words', 'like', '``', 'automobile', ',', \"''\", '``', 'vehicle', ',', \"''\", 'and', '``', 'motorcar', ',', \"''\", 'as', 'they', 'all', 'refer', 'to', 'the', 'same', 'concept', '.', 'Conceptual-Semantic', 'Relations', ':', 'Synsets', 'in', 'WordNet', 'are', 'interconnected', 'through', 'conceptual', 'and', 'semantic', 'relationships', '.', 'These', 'relationships', 'help', 'to', 'organize', 'and', 'link', 'related', 'concepts', 'together', '.', 'Some', 'common', 'types', 'of', 'conceptual-semantic', 'relations', 'in', 'WordNet', 'include', 'hypernyms', '(', 'generalizations', ')', ',', 'hyponyms', '(', 'specializations', ')', ',', 'meronyms', '(', 'part-whole', 'relationships', ')', ',', 'and', 'holonyms', '(', 'whole-part', 'relationships', ')', '.', 'Lexical', 'Relations', ':', 'WordNet', 'also', 'includes', 'lexical', 'relationships', 'between', 'words', 'within', 'synsets', '.', 'These', 'relationships', 'capture', 'different', 'aspects', 'of', 'lexical', 'similarity', 'and', 'connection', ',', 'such', 'as', 'antonyms', '(', 'words', 'with', 'opposite', 'meanings', ')', ',', 'synonyms', '(', 'words', 'with', 'similar', 'meanings', ')', ',', 'and', 'entailment', '(', 'logical', 'relationships', 'between', 'verbs', ')', '.', 'Overall', ',', 'WordNet', 'provides', 'a', 'structured', 'and', 'comprehensive', 'framework', 'for', 'understanding', 'the', 'lexical', 'and', 'conceptual', 'relationships', 'between', 'words', 'in', 'the', 'English', 'language', '.', 'It', 'serves', 'as', 'a', 'valuable', 'resource', 'for', 'various', 'natural', 'language', 'processing', 'tasks', ',', 'including', 'text', 'analysis', ',', 'semantic', 'search', ',', 'and', 'machine', 'learning', 'applications', '.', 'Word', 'Sense', 'Disambiguation', '(', 'WSD', ')', ':', 'Word', 'Sense', 'Disambiguation', '(', 'WSD', ')', 'is', 'a', 'natural', 'language', 'processing', 'task', 'that', 'involves', 'determining', 'the', 'correct', 'meaning', 'or', 'sense', 'of', 'a', 'word', 'in', 'a', 'given', 'context', '.', 'Since', 'many', 'words', 'in', 'natural', 'language', 'have', 'multiple', 'meanings', ',', 'determining', 'the', 'appropriate', 'sense', 'of', 'a', 'word', 'is', 'crucial', 'for', 'understanding', 'and', 'processing', 'text', 'accurately', '.', 'WSD', 'is', 'particularly', 'important', 'in', 'applications', 'such', 'as', 'machine', 'translation', ',', 'information', 'retrieval', ',', 'and', 'text', 'summarization', '.', 'Here', \"'s\", 'an', 'explanation', 'of', 'Word', 'Sense', 'Disambiguation', 'with', 'examples', ':', 'Example', '1', ':', '``', 'Bank', \"''\", 'Sentence', ':', '``', 'I', 'deposited', 'my', 'money', 'in', 'the', 'bank', '.', \"''\", 'In', 'this', 'sentence', ',', 'the', 'word', '``', 'bank', \"''\", 'could', 'refer', 'to', 'a', 'financial', 'institution', 'where', 'one', 'deposits', 'money', ',', 'or', 'it', 'could', 'refer', 'to', 'the', 'side', 'of', 'a', 'river', '.', 'Word', 'Sense', 'Disambiguation', 'is', 'needed', 'to', 'determine', 'whether', '``', 'bank', \"''\", 'refers', 'to', 'the', 'financial', 'institution', '(', 'bank_1', ')', 'or', 'the', 'land', 'alongside', 'a', 'body', 'of', 'water', '(', 'bank_2', ')', '.', 'Example', '2', ':', '``', 'Bat', \"''\", 'Sentence', ':', '``', 'The', 'bat', 'flew', 'out', 'of', 'the', 'cave', '.', \"''\", 'Here', ',', '``', 'bat', \"''\", 'could', 'mean', 'a', 'flying', 'mammal', ',', 'or', 'a', 'sports', 'equipment', 'used', 'in', 'baseball', '.', 'WSD', 'is', 'necessary', 'to', 'distinguish', 'between', 'the', 'two', 'senses', 'of', '``', 'bat', \"''\", '(', 'bat_1', ':', 'the', 'mammal', ',', 'bat_2', ':', 'the', 'sports', 'equipment', ')', '.', 'Example', '3', ':', '``', 'Apple', \"''\", 'Sentence', ':', '``', 'She', 'picked', 'a', 'ripe', 'apple', 'from', 'the', 'tree', '.', \"''\", 'In', 'this', 'context', ',', '``', 'apple', \"''\", 'could', 'refer', 'to', 'the', 'fruit', 'or', 'the', 'technology', 'company', '.', 'WSD', 'would', 'determine', 'whether', '``', 'apple', \"''\", 'refers', 'to', 'the', 'fruit', '(', 'apple_1', ')', 'or', 'the', 'company', '(', 'apple_2', ')', '.', 'Example', '4', ':', '``', 'Crane', \"''\", 'Sentence', ':', '``', 'The', 'construction', 'workers', 'used', 'a', 'crane', 'to', 'lift', 'heavy', 'materials', '.', \"''\", '``', 'Crane', \"''\", 'could', 'mean', 'a', 'large', 'bird', 'with', 'a', 'long', 'neck', ',', 'or', 'a', 'machine', 'used', 'for', 'lifting', '.', 'WSD', 'is', 'necessary', 'to', 'disambiguate', 'between', 'the', 'bird', '(', 'crane_1', ')', 'and', 'the', 'machine', '(', 'crane_2', ')', '.', 'In', 'each', 'of', 'these', 'examples', ',', 'the', 'meaning', 'of', 'the', 'word', 'can', 'significantly', 'impact', 'the', 'interpretation', 'of', 'the', 'sentence', '.', 'Word', 'Sense', 'Disambiguation', 'techniques', 'aim', 'to', 'analyze', 'the', 'surrounding', 'context', 'and', 'select', 'the', 'most', 'appropriate', 'sense', 'of', 'the', 'ambiguous', 'word', 'based', 'on', 'factors', 'such', 'as', 'syntax', ',', 'semantics', ',', 'and', 'discourse', 'information', '.', 'Novel', 'Word', 'Sense', 'detection', ':', 'Detecting', 'novel', 'word', 'senses', 'is', 'a', 'challenging', 'task', 'in', 'natural', 'language', 'processing', ',', 'as', 'it', 'involves', 'identifying', 'new', 'meanings', 'or', 'usages', 'of', 'words', 'that', 'may', 'not', 'be', 'present', 'in', 'existing', 'lexical', 'resources', 'like', 'WordNet', '.', 'Several', 'methods', 'and', 'techniques', 'have', 'been', 'proposed', 'to', 'address', 'this', 'task', '.', 'Here', 'are', 'some', 'common', 'approaches', ':', 'Distributional', 'Semantics', 'Models', ':', 'Distributional', 'semantics', 'models', ',', 'such', 'as', 'word', 'embeddings', '(', 'e.g.', ',', 'Word2Vec', ',', 'GloVe', ',', 'fastText', ')', ',', 'represent', 'words', 'as', 'dense', 'vectors', 'in', 'a', 'high-dimensional', 'space', 'based', 'on', 'their', 'distributional', 'properties', 'in', 'a', 'large', 'text', 'corpus', '.', 'Novel', 'senses', 'of', 'a', 'word', 'may', 'correspond', 'to', 'clusters', 'of', 'word', 'embeddings', 'that', 'exhibit', 'distinct', 'contextual', 'usage', 'patterns', '.', 'Techniques', 'like', 'clustering', 'or', 'anomaly', 'detection', 'can', 'be', 'applied', 'to', 'identify', 'clusters', 'of', 'embeddings', 'representing', 'novel', 'senses', '.', 'Contextual', 'Word', 'Embeddings', ':', 'Contextual', 'word', 'embeddings', ',', 'such', 'as', 'BERT', ',', 'ELMO', ',', 'and', 'GPT', ',', 'generate', 'word', 'representations', 'that', 'are', 'sensitive', 'to', 'the', 'surrounding', 'context', '.', 'By', 'analyzing', 'the', 'contextual', 'embeddings', 'of', 'a', 'word', 'in', 'different', 'contexts', ',', 'it', 'may', 'be', 'possible', 'to', 'detect', 'shifts', 'in', 'meaning', 'or', 'the', 'emergence', 'of', 'novel', 'senses', '.', 'Word', 'Sense', 'Induction', ':', 'Word', 'sense', 'induction', 'methods', 'aim', 'to', 'automatically', 'induce', 'senses', 'of', 'words', 'from', 'unlabeled', 'text', '.', 'Clustering', 'algorithms', ',', 'such', 'as', 'k-means', 'or', 'spectral', 'clustering', ',', 'can', 'be', 'applied', 'to', 'group', 'instances', 'of', 'a', 'word', 'based', 'on', 'their', 'contextual', 'usage', ',', 'potentially', 'revealing', 'novel', 'senses', '.', 'Graph-based', 'approaches', ',', 'like', 'graph', 'clustering', 'or', 'community', 'detection', ',', 'can', 'also', 'be', 'used', 'to', 'identify', 'clusters', 'of', 'related', 'word', 'senses', '.', 'Bootstrapping', 'from', 'Raw', 'Text', ':', 'Bootstrapping', 'methods', 'leverage', 'raw', 'text', 'data', 'to', 'identify', 'novel', 'word', 'senses', 'without', 'relying', 'on', 'pre-existing', 'resources', '.', 'Techniques', 'such', 'as', 'word', 'sense', 'discovery', 'through', 'word', 'sense', 'induction', 'or', 'topic', 'modeling', 'can', 'be', 'applied', 'to', 'identify', 'new', 'senses', 'based', 'on', 'co-occurrence', 'patterns', 'or', 'topical', 'contexts', 'in', 'the', 'data', '.', 'Active', 'Learning', 'and', 'Human-in-the-Loop', 'Approaches', ':', 'Active', 'learning', 'methods', 'involve', 'iteratively', 'querying', 'human', 'annotators', 'or', 'experts', 'to', 'label', 'instances', 'of', 'ambiguous', 'words', 'in', 'context', '.', 'These', 'labeled', 'data', 'can', 'then', 'be', 'used', 'to', 'train', 'supervised', 'or', 'semi-supervised', 'models', 'for', 'novel', 'word', 'sense', 'detection', '.', 'Human-in-the-loop', 'approaches', 'combine', 'automated', 'methods', 'with', 'human', 'judgment', 'to', 'iteratively', 'refine', 'and', 'improve', 'the', 'detection', 'of', 'novel', 'senses', '.', 'Domain-Specific', 'Approaches', ':', 'Domain-specific', 'knowledge', 'and', 'resources', 'can', 'be', 'leveraged', 'to', 'detect', 'novel', 'word', 'senses', 'in', 'specialized', 'domains', '.', 'Techniques', 'such', 'as', 'domain', 'adaptation', 'or', 'transfer', 'learning', 'can', 'be', 'applied', 'to', 'adapt', 'existing', 'models', 'or', 'resources', 'to', 'new', 'domains', 'and', 'identify', 'domain-specific', 'word', 'senses', '.']\n"
     ]
    }
   ],
   "source": [
    "tokens=[]\n",
    "for para in fullText:\n",
    "    tokens.extend(word_tokenize(para))\n",
    "print(tokens)"
   ]
  },
  {
   "cell_type": "code",
   "execution_count": 54,
   "id": "cf4bb615-9f87-4a54-a8bc-13578f7564c4",
   "metadata": {},
   "outputs": [
    {
     "name": "stdout",
     "output_type": "stream",
     "text": [
      "['que', '.', 'word', 'net-', 'word', 'sens', 'disambiguation-', 'novel', 'word', 'sens', 'detect', '.', 'word', 'net', ':', 'wordnet', 'is', 'a', 'lex', 'databas', 'of', 'the', 'engl', 'langu', 'that', 'org', 'word', 'into', 'group', 'cal', 'synset', ',', 'which', 'stand', 'for', '``', 'synonym', 'set', '.', \"''\", 'thes', 'synset', 'contain', 'word', 'that', 'ar', 'consid', 'to', 'be', 'cognit', 'synonym', ',', 'mean', 'they', 'express', 'simil', 'or', 'rel', 'conceiv', '.', 'wordnet', 'cov', 'diff', 'part', 'of', 'speech', 'includ', 'noun', ',', 'verb', ',', 'adject', ',', 'and', 'adverb', '.', 'her', \"'s\", 'a', 'breakdown', 'of', 'the', 'key', 'compon', 'and', 'feat', 'of', 'wordnet', ':', 'synset', ':', 'thes', 'ar', 'set', 'of', 'word', 'that', 'ar', 'consid', 'synonym', 'or', 'clos', 'rel', 'in', 'mean', '.', 'each', 'synset', 'repres', 'a', 'distinct', 'conceiv', '.', 'for', 'exampl', ',', 'the', 'synset', 'for', '``', 'car', \"''\", 'might', 'includ', 'word', 'lik', '``', 'automobl', ',', \"''\", '``', 'vehic', ',', \"''\", 'and', '``', 'motorc', ',', \"''\", 'as', 'they', 'al', 'ref', 'to', 'the', 'sam', 'conceiv', '.', 'conceptual-semantic', 'rel', ':', 'synset', 'in', 'wordnet', 'ar', 'interconnect', 'through', 'conceiv', 'and', 'sem', 'rel', '.', 'thes', 'rel', 'help', 'to', 'org', 'and', 'link', 'rel', 'conceiv', 'togeth', '.', 'som', 'common', 'typ', 'of', 'conceptual-semantic', 'rel', 'in', 'wordnet', 'includ', 'hypernym', '(', 'gen', ')', ',', 'hyponym', '(', 'spec', ')', ',', 'meronym', '(', 'part-whole', 'rel', ')', ',', 'and', 'holonym', '(', 'whole-part', 'rel', ')', '.', 'lex', 'rel', ':', 'wordnet', 'also', 'includ', 'lex', 'rel', 'between', 'word', 'within', 'synset', '.', 'thes', 'rel', 'capt', 'diff', 'aspect', 'of', 'lex', 'simil', 'and', 'connect', ',', 'such', 'as', 'antonym', '(', 'word', 'with', 'opposit', 'mean', ')', ',', 'synonym', '(', 'word', 'with', 'simil', 'mean', ')', ',', 'and', 'entail', '(', 'log', 'rel', 'between', 'verb', ')', '.', 'overal', ',', 'wordnet', 'provid', 'a', 'structured', 'and', 'comprehend', 'framework', 'for', 'understand', 'the', 'lex', 'and', 'conceiv', 'rel', 'between', 'word', 'in', 'the', 'engl', 'langu', '.', 'it', 'serv', 'as', 'a', 'valu', 'resourc', 'for', 'vary', 'nat', 'langu', 'process', 'task', ',', 'includ', 'text', 'analys', ',', 'sem', 'search', ',', 'and', 'machin', 'learn', 'apply', '.', 'word', 'sens', 'disambigu', '(', 'wsd', ')', ':', 'word', 'sens', 'disambigu', '(', 'wsd', ')', 'is', 'a', 'nat', 'langu', 'process', 'task', 'that', 'involv', 'determin', 'the', 'correct', 'mean', 'or', 'sens', 'of', 'a', 'word', 'in', 'a', 'giv', 'context', '.', 'sint', 'many', 'word', 'in', 'nat', 'langu', 'hav', 'multipl', 'mean', ',', 'determin', 'the', 'appropry', 'sens', 'of', 'a', 'word', 'is', 'cruc', 'for', 'understand', 'and', 'process', 'text', 'acc', '.', 'wsd', 'is', 'particul', 'import', 'in', 'apply', 'such', 'as', 'machin', 'transl', ',', 'inform', 'retriev', ',', 'and', 'text', 'summ', '.', 'her', \"'s\", 'an', 'expl', 'of', 'word', 'sens', 'disambigu', 'with', 'exampl', ':', 'exampl', '1', ':', '``', 'bank', \"''\", 'sent', ':', '``', 'i', 'deposit', 'my', 'money', 'in', 'the', 'bank', '.', \"''\", 'in', 'thi', 'sent', ',', 'the', 'word', '``', 'bank', \"''\", 'could', 'ref', 'to', 'a', 'fin', 'institut', 'wher', 'on', 'deposit', 'money', ',', 'or', 'it', 'could', 'ref', 'to', 'the', 'sid', 'of', 'a', 'riv', '.', 'word', 'sens', 'disambigu', 'is', 'nee', 'to', 'determin', 'wheth', '``', 'bank', \"''\", 'ref', 'to', 'the', 'fin', 'institut', '(', 'bank_1', ')', 'or', 'the', 'land', 'alongsid', 'a', 'body', 'of', 'wat', '(', 'bank_2', ')', '.', 'exampl', '2', ':', '``', 'bat', \"''\", 'sent', ':', '``', 'the', 'bat', 'flew', 'out', 'of', 'the', 'cav', '.', \"''\", 'her', ',', '``', 'bat', \"''\", 'could', 'mean', 'a', 'fly', 'mam', ',', 'or', 'a', 'sport', 'equip', 'us', 'in', 'basebal', '.', 'wsd', 'is', 'necess', 'to', 'distinct', 'between', 'the', 'two', 'sens', 'of', '``', 'bat', \"''\", '(', 'bat_1', ':', 'the', 'mam', ',', 'bat_2', ':', 'the', 'sport', 'equip', ')', '.', 'exampl', '3', ':', '``', 'appl', \"''\", 'sent', ':', '``', 'she', 'pick', 'a', 'rip', 'appl', 'from', 'the', 'tre', '.', \"''\", 'in', 'thi', 'context', ',', '``', 'appl', \"''\", 'could', 'ref', 'to', 'the', 'fruit', 'or', 'the', 'technolog', 'company', '.', 'wsd', 'would', 'determin', 'wheth', '``', 'appl', \"''\", 'ref', 'to', 'the', 'fruit', '(', 'apple_1', ')', 'or', 'the', 'company', '(', 'apple_2', ')', '.', 'exampl', '4', ':', '``', 'cran', \"''\", 'sent', ':', '``', 'the', 'construct', 'work', 'us', 'a', 'cran', 'to', 'lift', 'heavy', 'mat', '.', \"''\", '``', 'cran', \"''\", 'could', 'mean', 'a', 'larg', 'bird', 'with', 'a', 'long', 'neck', ',', 'or', 'a', 'machin', 'us', 'for', 'lift', '.', 'wsd', 'is', 'necess', 'to', 'disambigu', 'between', 'the', 'bird', '(', 'crane_1', ')', 'and', 'the', 'machin', '(', 'crane_2', ')', '.', 'in', 'each', 'of', 'thes', 'exampl', ',', 'the', 'mean', 'of', 'the', 'word', 'can', 'sign', 'impact', 'the', 'interpret', 'of', 'the', 'sent', '.', 'word', 'sens', 'disambigu', 'techn', 'aim', 'to', 'analys', 'the', 'surround', 'context', 'and', 'select', 'the', 'most', 'appropry', 'sens', 'of', 'the', 'ambigu', 'word', 'bas', 'on', 'fact', 'such', 'as', 'syntax', ',', 'sem', ',', 'and', 'discours', 'inform', '.', 'novel', 'word', 'sens', 'detect', ':', 'detect', 'novel', 'word', 'sens', 'is', 'a', 'challeng', 'task', 'in', 'nat', 'langu', 'process', ',', 'as', 'it', 'involv', 'ident', 'new', 'mean', 'or', 'us', 'of', 'word', 'that', 'may', 'not', 'be', 'pres', 'in', 'ex', 'lex', 'resourc', 'lik', 'wordnet', '.', 'sev', 'method', 'and', 'techn', 'hav', 'been', 'propos', 'to', 'address', 'thi', 'task', '.', 'her', 'ar', 'som', 'common', 'approach', ':', 'distribut', 'sem', 'model', ':', 'distribut', 'sem', 'model', ',', 'such', 'as', 'word', 'embed', '(', 'e.g.', ',', 'word2vec', ',', 'glov', ',', 'fasttext', ')', ',', 'repres', 'word', 'as', 'dens', 'vect', 'in', 'a', 'high-dimensional', 'spac', 'bas', 'on', 'their', 'distribut', 'property', 'in', 'a', 'larg', 'text', 'corp', '.', 'novel', 'sens', 'of', 'a', 'word', 'may', 'correspond', 'to', 'clust', 'of', 'word', 'embed', 'that', 'exhibit', 'distinct', 'context', 'us', 'pattern', '.', 'techn', 'lik', 'clust', 'or', 'anoma', 'detect', 'can', 'be', 'apply', 'to', 'ident', 'clust', 'of', 'embed', 'repres', 'novel', 'sens', '.', 'context', 'word', 'embed', ':', 'context', 'word', 'embed', ',', 'such', 'as', 'bert', ',', 'elmo', ',', 'and', 'gpt', ',', 'gen', 'word', 'repres', 'that', 'ar', 'sensit', 'to', 'the', 'surround', 'context', '.', 'by', 'analys', 'the', 'context', 'embed', 'of', 'a', 'word', 'in', 'diff', 'context', ',', 'it', 'may', 'be', 'poss', 'to', 'detect', 'shift', 'in', 'mean', 'or', 'the', 'emerg', 'of', 'novel', 'sens', '.', 'word', 'sens', 'induc', ':', 'word', 'sens', 'induc', 'method', 'aim', 'to', 'autom', 'induc', 'sens', 'of', 'word', 'from', 'unlabel', 'text', '.', 'clust', 'algorithm', ',', 'such', 'as', 'k-means', 'or', 'spect', 'clust', ',', 'can', 'be', 'apply', 'to', 'group', 'inst', 'of', 'a', 'word', 'bas', 'on', 'their', 'context', 'us', ',', 'pot', 'rev', 'novel', 'sens', '.', 'graph-based', 'approach', ',', 'lik', 'graph', 'clust', 'or', 'commun', 'detect', ',', 'can', 'also', 'be', 'us', 'to', 'ident', 'clust', 'of', 'rel', 'word', 'sens', '.', 'bootstrap', 'from', 'raw', 'text', ':', 'bootstrap', 'method', 'lev', 'raw', 'text', 'dat', 'to', 'ident', 'novel', 'word', 'sens', 'without', 'rely', 'on', 'pre-existing', 'resourc', '.', 'techn', 'such', 'as', 'word', 'sens', 'discovery', 'through', 'word', 'sens', 'induc', 'or', 'top', 'model', 'can', 'be', 'apply', 'to', 'ident', 'new', 'sens', 'bas', 'on', 'co-occurrence', 'pattern', 'or', 'top', 'context', 'in', 'the', 'dat', '.', 'act', 'learn', 'and', 'human-in-the-loop', 'approach', ':', 'act', 'learn', 'method', 'involv', 'it', 'query', 'hum', 'annot', 'or', 'expert', 'to', 'label', 'inst', 'of', 'ambigu', 'word', 'in', 'context', '.', 'thes', 'label', 'dat', 'can', 'then', 'be', 'us', 'to', 'train', 'superv', 'or', 'semi-supervised', 'model', 'for', 'novel', 'word', 'sens', 'detect', '.', 'human-in-the-loop', 'approach', 'combin', 'autom', 'method', 'with', 'hum', 'judg', 'to', 'it', 'refin', 'and', 'improv', 'the', 'detect', 'of', 'novel', 'sens', '.', 'domain-specific', 'approach', ':', 'domain-specific', 'knowledg', 'and', 'resourc', 'can', 'be', 'lev', 'to', 'detect', 'novel', 'word', 'sens', 'in', 'spec', 'domain', '.', 'techn', 'such', 'as', 'domain', 'adapt', 'or', 'transf', 'learn', 'can', 'be', 'apply', 'to', 'adapt', 'ex', 'model', 'or', 'resourc', 'to', 'new', 'domain', 'and', 'ident', 'domain-specific', 'word', 'sens', '.']\n"
     ]
    }
   ],
   "source": [
    "stem_word=[ls.stem(word) for word in tokens]\n",
    "print(stem_word)"
   ]
  },
  {
   "cell_type": "code",
   "execution_count": null,
   "id": "22dd9052-e08e-469d-b7e3-2f0f2734c3a8",
   "metadata": {},
   "outputs": [],
   "source": []
  }
 ],
 "metadata": {
  "kernelspec": {
   "display_name": "Python 3 (ipykernel)",
   "language": "python",
   "name": "python3"
  },
  "language_info": {
   "codemirror_mode": {
    "name": "ipython",
    "version": 3
   },
   "file_extension": ".py",
   "mimetype": "text/x-python",
   "name": "python",
   "nbconvert_exporter": "python",
   "pygments_lexer": "ipython3",
   "version": "3.11.7"
  }
 },
 "nbformat": 4,
 "nbformat_minor": 5
}
