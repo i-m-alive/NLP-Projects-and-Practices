{
 "cells": [
  {
   "cell_type": "markdown",
   "id": "5798ca8b-c214-43a8-bf1d-8014a5508c2c",
   "metadata": {},
   "source": [
    "## Spell Checker application in python using Edit Distance method."
   ]
  },
  {
   "cell_type": "markdown",
   "id": "ff5a8005-7679-487a-9fa8-1b2e5fcc5a36",
   "metadata": {},
   "source": [
    "Procedure:\n",
    "1. Start the procedure editDistance with the following parameters: str1: The first string,str2: The second string, m: The length of str1, n: The length of str2\n",
    "2. Check if str1is an empty string (m == 0):\n",
    "3. If it is an empty string, return the length of str2 (n), as the only option is to insert all characters of str2 into str1.\n",
    "4. Check if str2 is an empty string (n == 0):\n",
    "5. If it is an empty string, return the length of str1 (m), as the only option is to remove all characters of str1.\n",
    "6. Check if the last characters of str1 and str2 are the same: If they are the same, recursively call the editDistance procedure with the updated parameters: Reduce the length of both strings (m-1 and n-1) to ignore the last characters.\n",
    "7. Return the result of the recursive call.\n",
    "8. If the last characters of str1 and str2 are different: Recursively call the editDistance procedure with the updated parameters: Keep str1 unchanged and reduce the length of str2 by 1 (m, n-1) to consider the insertion operation, Reduce the length of str1 by 1 and keep str2 unchanged (m-1, n) to consider the removal operation. Reduce the length of both strings (m-1, n-1) to consider the replacement operation.\n",
    "9. Return the minimum of the three recursive calls plus 1"
   ]
  },
  {
   "cell_type": "code",
   "execution_count": 3,
   "id": "65e8d559-1946-4a0e-8a8c-90794fcae7fa",
   "metadata": {},
   "outputs": [],
   "source": [
    "from nltk import word_tokenize\n",
    "# minimum edit distance function\n",
    "def edit_distance(s1,s2,m,n):\n",
    "    if m==0:\n",
    "        return n\n",
    "    if n==0:\n",
    "        return m\n",
    "    if s1[m-1]==s2[n-1]:\n",
    "        return edit_distance(s1,s2,m-1,n-1)\n",
    "    return 1+min(edit_distance(s1,s2,m-1,n-1),edit_distance(s1,s2,m,n-1),edit_distance(s1,s2,m-1,n))\n",
    "        "
   ]
  },
  {
   "cell_type": "code",
   "execution_count": 4,
   "id": "3528bf99-2aa8-4f5d-8a13-7fd58816a75f",
   "metadata": {},
   "outputs": [
    {
     "name": "stdout",
     "output_type": "stream",
     "text": [
      "miss spelled word: crickitng\n",
      "miss spelled word: icno\n",
      "miss spelled word: incredibel\n",
      "miss spelled word: uncnanny\n",
      "miss spelled word: astoundign\n",
      "miss spelled word: humbl\n",
      "miss spelled word: aroudn\n"
     ]
    }
   ],
   "source": [
    "s1='''Dhoni is a crickitng icno who has left an indelible mark on the sport with his incredibel skills and leadership. His uncnanny ability to finish matches with his bat and astoundign wicketkeeping prowess has earned him the title of \"Captain Cool\". Despite his fame and stardom, Dhoni remains a humbl and grounded individual who is adored by millions of fans aroudn the world.'''\n",
    "s11=word_tokenize(s1)\n",
    "s2='''Dhoni is a cricketing icon who has left an indelible mark on the sport with his incredible skills and leadership. His uncanny ability to finish matches with his bat and astounding wicketkeeping prowess has earned him the title of \"Captain Cool\". Despite his fame and stardom, Dhoni remains a humble and grounded individual who is adored by millions of fans around the world.'''\n",
    "s12=word_tokenize(s2)\n",
    "\n",
    "for i in range (0,len(s12)):\n",
    "    m=len(s11[i])\n",
    "    n=len(s12[i])\n",
    "    z=edit_distance(s11[i],s12[i],m,n)\n",
    "    if z!=0:\n",
    "        print(\"miss spelled word: \"+s11[i])\n",
    "    "
   ]
  },
  {
   "cell_type": "code",
   "execution_count": null,
   "id": "f6f41301-2ee3-4894-854a-5eec491918aa",
   "metadata": {},
   "outputs": [],
   "source": []
  },
  {
   "cell_type": "code",
   "execution_count": null,
   "id": "9a7d9a11-52bd-4f1a-a403-bc75ae9d0320",
   "metadata": {},
   "outputs": [],
   "source": []
  }
 ],
 "metadata": {
  "kernelspec": {
   "display_name": "Python 3 (ipykernel)",
   "language": "python",
   "name": "python3"
  },
  "language_info": {
   "codemirror_mode": {
    "name": "ipython",
    "version": 3
   },
   "file_extension": ".py",
   "mimetype": "text/x-python",
   "name": "python",
   "nbconvert_exporter": "python",
   "pygments_lexer": "ipython3",
   "version": "3.11.7"
  }
 },
 "nbformat": 4,
 "nbformat_minor": 5
}
